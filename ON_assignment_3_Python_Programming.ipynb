{
  "nbformat": 4,
  "nbformat_minor": 0,
  "metadata": {
    "colab": {
      "name": "ON assignment 3: Python Programming.ipynb",
      "provenance": [],
      "collapsed_sections": [],
      "authorship_tag": "ABX9TyNs2dSVzJToViFT9EovAjoe",
      "include_colab_link": true
    },
    "kernelspec": {
      "name": "python3",
      "display_name": "Python 3"
    },
    "language_info": {
      "name": "python"
    }
  },
  "cells": [
    {
      "cell_type": "markdown",
      "metadata": {
        "id": "view-in-github",
        "colab_type": "text"
      },
      "source": [
        "<a href=\"https://colab.research.google.com/github/pranaysawant17/Ineuron-Assignment/blob/main/ON_assignment_3_Python_Programming.ipynb\" target=\"_parent\"><img src=\"https://colab.research.google.com/assets/colab-badge.svg\" alt=\"Open In Colab\"/></a>"
      ]
    },
    {
      "cell_type": "markdown",
      "source": [
        "1.\tWrite a Python Program to Check if a Number is Positive, Negative or Zero?\n"
      ],
      "metadata": {
        "id": "nCNJFgzciOxP"
      }
    },
    {
      "cell_type": "code",
      "execution_count": 11,
      "metadata": {
        "colab": {
          "base_uri": "https://localhost:8080/"
        },
        "id": "vt95wciaiC5l",
        "outputId": "f6447f4f-4b3d-46d3-a72f-203ff349123e"
      },
      "outputs": [
        {
          "output_type": "stream",
          "name": "stdout",
          "text": [
            "Enter your number: 15\n",
            "Number is positive\n"
          ]
        }
      ],
      "source": [
        "a = float(input(\"Enter your number: \"))\n",
        "\n",
        "if a>0:\n",
        "  print(\"Number is positive\")\n",
        "elif a==0:\n",
        "  print (\"Number is zero\")\n",
        "elif a<0:\n",
        "  print (\"Number is negative\")\n",
        "else:\n",
        "  print(\"Enter a valid number\")"
      ]
    },
    {
      "cell_type": "markdown",
      "source": [
        "2.\tWrite a Python Program to Check if a Number is Odd or Even?"
      ],
      "metadata": {
        "id": "3vRiNCFHjPdv"
      }
    },
    {
      "cell_type": "code",
      "source": [
        "a = int(input (\"Enter your number:\"))\n",
        "\n",
        "if a % 2 == 0:\n",
        "  print (a,\"is even\")\n",
        "else:\n",
        "  print (b,\"is odd\")"
      ],
      "metadata": {
        "colab": {
          "base_uri": "https://localhost:8080/"
        },
        "id": "Yuk3KLQFjmNi",
        "outputId": "8a4636a9-733b-48d5-fb8e-e201eb42224e"
      },
      "execution_count": 9,
      "outputs": [
        {
          "output_type": "stream",
          "name": "stdout",
          "text": [
            "Enter your number:10\n",
            "10 is even\n"
          ]
        }
      ]
    },
    {
      "cell_type": "markdown",
      "source": [
        "3.\tWrite a Python Program to Check Leap Year?"
      ],
      "metadata": {
        "id": "SDaStE2LkQOL"
      }
    },
    {
      "cell_type": "code",
      "source": [
        "year = int(input(\"Enter you year :\"))\n",
        "\n",
        "if (year % 400 == 0) and (year % 100 == 0):\n",
        "    print(year,\" is a leap year\")\n",
        "\n",
        "\n",
        "elif (year % 4 ==0) and (year % 100 != 0):\n",
        "    print(year,\" is a leap year\")\n",
        "\n",
        "\n",
        "else:\n",
        "    print(year,\" is not a leap year\")"
      ],
      "metadata": {
        "colab": {
          "base_uri": "https://localhost:8080/"
        },
        "id": "Y7JGP4sTkVp1",
        "outputId": "9b261479-2bee-440e-eb20-7939196466a6"
      },
      "execution_count": 14,
      "outputs": [
        {
          "output_type": "stream",
          "name": "stdout",
          "text": [
            "Enter you year :1900\n",
            "1900  is not a leap year\n"
          ]
        }
      ]
    },
    {
      "cell_type": "markdown",
      "source": [
        "4.\tWrite a Python Program to Check Prime Number?"
      ],
      "metadata": {
        "id": "vv-xkeycplR9"
      }
    },
    {
      "cell_type": "code",
      "source": [
        "num = int(input (\"Enter your number: \"))\n",
        "\n",
        "if num >= 2:\n",
        "  for i in range (2, num):\n",
        "    if num % i == 0:\n",
        "      print (num, \"is not prime\")\n",
        "      break\n",
        "  else:\n",
        "      print (num, \"is prime\")\n",
        "else:\n",
        "  print(num, \"is not prime\")"
      ],
      "metadata": {
        "colab": {
          "base_uri": "https://localhost:8080/"
        },
        "id": "B1fULy77psxd",
        "outputId": "daca57c8-3bda-4ff8-f690-3e363f76740d"
      },
      "execution_count": 18,
      "outputs": [
        {
          "output_type": "stream",
          "name": "stdout",
          "text": [
            "Enter your number: 2\n",
            "2 is prime\n"
          ]
        }
      ]
    },
    {
      "cell_type": "markdown",
      "source": [
        "5.\tWrite a Python Program to Print all Prime Numbers in an Interval of 1-10000?"
      ],
      "metadata": {
        "id": "aNXtkJs6sRWs"
      }
    },
    {
      "cell_type": "code",
      "source": [
        "print(\"Prime Number from 1 to 1000\")\n",
        "for i in range (1, 1000):\n",
        " if i<2:\n",
        "   continue\n",
        " else:\n",
        "  for j in range (2,i):\n",
        "    if i > 2 and i % j == 0:\n",
        "      break\n",
        "     \n",
        "  else:\n",
        "      print (i)\n",
        "\n"
      ],
      "metadata": {
        "colab": {
          "base_uri": "https://localhost:8080/"
        },
        "id": "J1Ih9KW3srlR",
        "outputId": "e64909ac-66c1-40c1-d033-f1facd858ce9"
      },
      "execution_count": 30,
      "outputs": [
        {
          "output_type": "stream",
          "name": "stdout",
          "text": [
            "Prime Number from 1 to 1000\n",
            "2\n",
            "3\n",
            "5\n",
            "7\n",
            "11\n",
            "13\n",
            "17\n",
            "19\n",
            "23\n",
            "29\n",
            "31\n",
            "37\n",
            "41\n",
            "43\n",
            "47\n",
            "53\n",
            "59\n",
            "61\n",
            "67\n",
            "71\n",
            "73\n",
            "79\n",
            "83\n",
            "89\n",
            "97\n",
            "101\n",
            "103\n",
            "107\n",
            "109\n",
            "113\n",
            "127\n",
            "131\n",
            "137\n",
            "139\n",
            "149\n",
            "151\n",
            "157\n",
            "163\n",
            "167\n",
            "173\n",
            "179\n",
            "181\n",
            "191\n",
            "193\n",
            "197\n",
            "199\n",
            "211\n",
            "223\n",
            "227\n",
            "229\n",
            "233\n",
            "239\n",
            "241\n",
            "251\n",
            "257\n",
            "263\n",
            "269\n",
            "271\n",
            "277\n",
            "281\n",
            "283\n",
            "293\n",
            "307\n",
            "311\n",
            "313\n",
            "317\n",
            "331\n",
            "337\n",
            "347\n",
            "349\n",
            "353\n",
            "359\n",
            "367\n",
            "373\n",
            "379\n",
            "383\n",
            "389\n",
            "397\n",
            "401\n",
            "409\n",
            "419\n",
            "421\n",
            "431\n",
            "433\n",
            "439\n",
            "443\n",
            "449\n",
            "457\n",
            "461\n",
            "463\n",
            "467\n",
            "479\n",
            "487\n",
            "491\n",
            "499\n",
            "503\n",
            "509\n",
            "521\n",
            "523\n",
            "541\n",
            "547\n",
            "557\n",
            "563\n",
            "569\n",
            "571\n",
            "577\n",
            "587\n",
            "593\n",
            "599\n",
            "601\n",
            "607\n",
            "613\n",
            "617\n",
            "619\n",
            "631\n",
            "641\n",
            "643\n",
            "647\n",
            "653\n",
            "659\n",
            "661\n",
            "673\n",
            "677\n",
            "683\n",
            "691\n",
            "701\n",
            "709\n",
            "719\n",
            "727\n",
            "733\n",
            "739\n",
            "743\n",
            "751\n",
            "757\n",
            "761\n",
            "769\n",
            "773\n",
            "787\n",
            "797\n",
            "809\n",
            "811\n",
            "821\n",
            "823\n",
            "827\n",
            "829\n",
            "839\n",
            "853\n",
            "857\n",
            "859\n",
            "863\n",
            "877\n",
            "881\n",
            "883\n",
            "887\n",
            "907\n",
            "911\n",
            "919\n",
            "929\n",
            "937\n",
            "941\n",
            "947\n",
            "953\n",
            "967\n",
            "971\n",
            "977\n",
            "983\n",
            "991\n",
            "997\n"
          ]
        }
      ]
    }
  ]
}