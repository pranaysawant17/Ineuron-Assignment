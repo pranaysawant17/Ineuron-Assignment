{
  "nbformat": 4,
  "nbformat_minor": 0,
  "metadata": {
    "colab": {
      "name": "ON Assignment 8: Python Programming.ipynb",
      "provenance": [],
      "collapsed_sections": [],
      "authorship_tag": "ABX9TyOE93ck42noWAkeZO1Uoks9",
      "include_colab_link": true
    },
    "kernelspec": {
      "name": "python3",
      "display_name": "Python 3"
    },
    "language_info": {
      "name": "python"
    }
  },
  "cells": [
    {
      "cell_type": "markdown",
      "metadata": {
        "id": "view-in-github",
        "colab_type": "text"
      },
      "source": [
        "<a href=\"https://colab.research.google.com/github/pranaysawant17/Ineuron-Assignment/blob/main/ON_Assignment_8_Python_Programming.ipynb\" target=\"_parent\"><img src=\"https://colab.research.google.com/assets/colab-badge.svg\" alt=\"Open In Colab\"/></a>"
      ]
    },
    {
      "cell_type": "markdown",
      "source": [
        "1.\tWrite a Python Program to Add Two Matrices?"
      ],
      "metadata": {
        "id": "QLjqpuveS57-"
      }
    },
    {
      "cell_type": "code",
      "execution_count": 58,
      "metadata": {
        "id": "lx9zNH2XSTsV"
      },
      "outputs": [],
      "source": [
        "def addMat(A,B):\n",
        "  \n",
        "      final=[]\n",
        "      for i in range(len(A)):\n",
        "          add=[]        \n",
        "          for k in range(len(B)+1):\n",
        "        \n",
        "            ans= A[i][k]+B[i][k]\n",
        "            add.append(ans)            \n",
        "              \n",
        "          final.append(add)\n",
        "      return(final)\n",
        " "
      ]
    },
    {
      "cell_type": "code",
      "source": [
        "a = [[1,2,3],[4,5,6]]\n",
        "b= [[2,3,4],[7,8,9]]\n",
        "\n",
        "addMat(a,b)"
      ],
      "metadata": {
        "colab": {
          "base_uri": "https://localhost:8080/"
        },
        "id": "R_LqltBmpSPD",
        "outputId": "c8588147-c839-46fe-dfb7-6fc8e6bdf8b7"
      },
      "execution_count": 59,
      "outputs": [
        {
          "output_type": "execute_result",
          "data": {
            "text/plain": [
              "[[3, 5, 7], [11, 13, 15]]"
            ]
          },
          "metadata": {},
          "execution_count": 59
        }
      ]
    },
    {
      "cell_type": "markdown",
      "source": [
        "2.\tWrite a Python Program to Multiply Two Matrices?"
      ],
      "metadata": {
        "id": "2dfuTrRD7Tri"
      }
    },
    {
      "cell_type": "code",
      "source": [
        "def matrix_mul(A, B):\n",
        "  if len (A[0])== len(B):\n",
        "      final=[]\n",
        "      for i in range(len(A)):\n",
        "          add=[]\n",
        "          for j in range (len(B[0])):\n",
        "              l=[]\n",
        "              for k in range(len(B)):\n",
        "              \n",
        "                mul= A[i][k]*B[k][j]\n",
        "                l.append(mul)\n",
        "              \n",
        "              add.append(sum(l))\n",
        "          final.append(add)\n",
        "\n",
        "      return(final)\n",
        "  else:\n",
        "    return(\"Not Possible\")   "
      ],
      "metadata": {
        "id": "Q5eQ0Ba3wZrQ"
      },
      "execution_count": 60,
      "outputs": []
    },
    {
      "cell_type": "code",
      "source": [
        "A   = [[1 ,3, 4],\n",
        "             [2 ,5 ,7],\n",
        "             [5 ,9, 6]]\n",
        "B   = [[1 ,0, 0],\n",
        "             [0, 1, 0],\n",
        "             [0, 0, 1]]\n",
        "print(matrix_mul(A,B))"
      ],
      "metadata": {
        "colab": {
          "base_uri": "https://localhost:8080/"
        },
        "id": "CozM3QzfwZOT",
        "outputId": "775f8aa3-0ff6-466c-e542-27ef32404bc6"
      },
      "execution_count": 61,
      "outputs": [
        {
          "output_type": "stream",
          "name": "stdout",
          "text": [
            "[[1, 3, 4], [2, 5, 7], [5, 9, 6]]\n"
          ]
        }
      ]
    },
    {
      "cell_type": "markdown",
      "source": [
        "3.\tWrite a Python Program to Transpose a Matrix?"
      ],
      "metadata": {
        "id": "HcM-IPRf7dUM"
      }
    },
    {
      "cell_type": "code",
      "source": [
        "def transposeM(a):\n",
        "  final =[]\n",
        "  for i in range(len(A[0])):\n",
        "    lst=[]\n",
        "    for j in range(len(a)):\n",
        "      lst.append(A[j][i])\n",
        "    final.append(lst)\n",
        "  return final "
      ],
      "metadata": {
        "id": "-oc_I47Z0TsV"
      },
      "execution_count": 62,
      "outputs": []
    },
    {
      "cell_type": "code",
      "source": [
        "print(transposeM(A))\n",
        "c   = [[1 ,3, 4],\n",
        "             [2 ,5 ,7]]\n",
        "transposeM(c)"
      ],
      "metadata": {
        "colab": {
          "base_uri": "https://localhost:8080/"
        },
        "id": "Olo_lt7X4f28",
        "outputId": "5e149cb6-8382-403a-dfcf-e27aa7f23574"
      },
      "execution_count": 63,
      "outputs": [
        {
          "output_type": "stream",
          "name": "stdout",
          "text": [
            "[[1, 2, 5], [3, 5, 9], [4, 7, 6]]\n"
          ]
        },
        {
          "output_type": "execute_result",
          "data": {
            "text/plain": [
              "[[1, 2], [3, 5], [4, 7]]"
            ]
          },
          "metadata": {},
          "execution_count": 63
        }
      ]
    },
    {
      "cell_type": "markdown",
      "source": [
        "4.\tWrite a Python Program to Sort Words in Alphabetic Order?"
      ],
      "metadata": {
        "id": "S_QlZ5W17e4T"
      }
    },
    {
      "cell_type": "code",
      "source": [
        "in_str = input(\"Enter a string: \")  \n",
        "\n",
        "wo = in_str.split()  \n",
        "\n",
        "wo.sort()  \n",
        "    \n",
        "for word in wo:  \n",
        "   print(word)  "
      ],
      "metadata": {
        "colab": {
          "base_uri": "https://localhost:8080/"
        },
        "id": "Ic_jAZCI6A6m",
        "outputId": "725cd3f1-d596-4371-b799-edc7ff659daa"
      },
      "execution_count": 64,
      "outputs": [
        {
          "output_type": "stream",
          "name": "stdout",
          "text": [
            "Enter a string: This is good book\n",
            "This\n",
            "book\n",
            "good\n",
            "is\n"
          ]
        }
      ]
    },
    {
      "cell_type": "markdown",
      "source": [
        "5.\tWrite a Python Program to Remove Punctuation From a String?"
      ],
      "metadata": {
        "id": "sEA9omJT7iK3"
      }
    },
    {
      "cell_type": "code",
      "source": [
        "a= input(\"Enter String\")\n",
        "s=''\n",
        "\n",
        "\n",
        "for i in a:\n",
        "    if i.isalpha():\n",
        "        s+=i\n",
        "print(s)"
      ],
      "metadata": {
        "colab": {
          "base_uri": "https://localhost:8080/"
        },
        "id": "xqn6R7Uj6fSH",
        "outputId": "74bb260e-c28a-4783-8e88-5caec69fff57"
      },
      "execution_count": 65,
      "outputs": [
        {
          "output_type": "stream",
          "name": "stdout",
          "text": [
            "Enter Stringagiui[]++-$56dem\n",
            "agiuidem\n"
          ]
        }
      ]
    }
  ]
}