{
  "nbformat": 4,
  "nbformat_minor": 0,
  "metadata": {
    "colab": {
      "name": "ON Assignment 12: Python Programing.ipynb",
      "provenance": [],
      "collapsed_sections": [],
      "authorship_tag": "ABX9TyPRZIJhwZzmgjBTg8HvY7G8",
      "include_colab_link": true
    },
    "kernelspec": {
      "name": "python3",
      "display_name": "Python 3"
    },
    "language_info": {
      "name": "python"
    }
  },
  "cells": [
    {
      "cell_type": "markdown",
      "metadata": {
        "id": "view-in-github",
        "colab_type": "text"
      },
      "source": [
        "<a href=\"https://colab.research.google.com/github/pranaysawant17/Ineuron-Assignment/blob/main/ON_Assignment_12_Python_Programing.ipynb\" target=\"_parent\"><img src=\"https://colab.research.google.com/assets/colab-badge.svg\" alt=\"Open In Colab\"/></a>"
      ]
    },
    {
      "cell_type": "markdown",
      "source": [
        "1.\tWrite a Python program to Extract Unique values dictionary values?"
      ],
      "metadata": {
        "id": "O7DkhHRHoIQK"
      }
    },
    {
      "cell_type": "code",
      "execution_count": 17,
      "metadata": {
        "id": "-tPhwnKKj9oB"
      },
      "outputs": [],
      "source": [
        "def uniq_value(a):\n",
        "  lst =[]\n",
        "  for i in a.values():\n",
        "    lst+=i\n",
        "  print(\"Unique Values: \", list(set(lst)))\n"
      ]
    },
    {
      "cell_type": "code",
      "source": [
        "a= {'a':[1,2,2], 'b':[3,5,7]}\n",
        "uniq_value(a)"
      ],
      "metadata": {
        "colab": {
          "base_uri": "https://localhost:8080/"
        },
        "id": "sO7prZj2pHKZ",
        "outputId": "a1cb1356-7ef9-4e52-812f-11344839030f"
      },
      "execution_count": 18,
      "outputs": [
        {
          "output_type": "stream",
          "name": "stdout",
          "text": [
            "Unique Values:  [1, 2, 3, 5, 7]\n"
          ]
        }
      ]
    },
    {
      "cell_type": "markdown",
      "source": [
        "2.\tWrite a Python program to find the sum of all items in a dictionary?"
      ],
      "metadata": {
        "id": "HGkeAyc_qtcv"
      }
    },
    {
      "cell_type": "code",
      "source": [
        "def sum_dict(a):\n",
        "    sum = 0\n",
        "    for i in a.values():\n",
        "      sum += i\n",
        "      \n",
        "    return sum\n",
        " \n",
        "    \n",
        "  \n",
        "\n",
        "  "
      ],
      "metadata": {
        "id": "rL9-FzcCpYda"
      },
      "execution_count": 19,
      "outputs": []
    },
    {
      "cell_type": "code",
      "source": [
        "\n",
        "sum_dict({'a': 100, 'b':200, 'c':300})"
      ],
      "metadata": {
        "colab": {
          "base_uri": "https://localhost:8080/"
        },
        "id": "82LmJs5Sr9w-",
        "outputId": "23914189-2235-46fb-e6f0-89c9695b1d4e"
      },
      "execution_count": 20,
      "outputs": [
        {
          "output_type": "execute_result",
          "data": {
            "text/plain": [
              "600"
            ]
          },
          "metadata": {},
          "execution_count": 20
        }
      ]
    },
    {
      "cell_type": "markdown",
      "source": [
        "3.\tWrite a Python program to Merging two Dictionaries?"
      ],
      "metadata": {
        "id": "opHI85nQu8NZ"
      }
    },
    {
      "cell_type": "code",
      "source": [
        "def merg_dict(a,b):\n",
        "  a.update(b)\n",
        "  return a"
      ],
      "metadata": {
        "id": "FlLmS-NOsD1y"
      },
      "execution_count": 21,
      "outputs": []
    },
    {
      "cell_type": "code",
      "source": [
        "print(merg_dict({'a': 100, 'b':200, 'c':300}, {1:1,2:2}))"
      ],
      "metadata": {
        "colab": {
          "base_uri": "https://localhost:8080/"
        },
        "id": "KmQxzrJZvkhb",
        "outputId": "375bcd72-caa8-40c7-e8d3-c038f6d6ef97"
      },
      "execution_count": 22,
      "outputs": [
        {
          "output_type": "stream",
          "name": "stdout",
          "text": [
            "{'a': 100, 'b': 200, 'c': 300, 1: 1, 2: 2}\n"
          ]
        }
      ]
    },
    {
      "cell_type": "markdown",
      "source": [
        "4.\tWrite a Python program to convert key-values list to flat dictionary?"
      ],
      "metadata": {
        "id": "irX3YXXdu7oz"
      }
    },
    {
      "cell_type": "code",
      "source": [
        "di= {'a':[1,2,3], 'b':[3,5,7]}\n",
        "print(dict(zip(di['a'],di['b'])))\n"
      ],
      "metadata": {
        "colab": {
          "base_uri": "https://localhost:8080/"
        },
        "id": "gxQOnyB7wm_R",
        "outputId": "57071d2f-463f-4555-8231-9a832bb961aa"
      },
      "execution_count": 23,
      "outputs": [
        {
          "output_type": "stream",
          "name": "stdout",
          "text": [
            "{1: 3, 2: 5, 3: 7}\n"
          ]
        }
      ]
    },
    {
      "cell_type": "markdown",
      "source": [
        "5.\tWrite a Python program to insertion at the beginning in OrderedDict?"
      ],
      "metadata": {
        "id": "mruSJFGWzr1C"
      }
    },
    {
      "cell_type": "code",
      "source": [
        "from collections import OrderedDict\n",
        "ord_dict = OrderedDict({'a':[1,2,3], 'b':[3,5,7]})\n",
        "\n",
        "ord_dict.update({'c':7})\n",
        "ord_dict.move_to_end('c', last = False)\n",
        "\n",
        "print(ord_dict)"
      ],
      "metadata": {
        "colab": {
          "base_uri": "https://localhost:8080/"
        },
        "id": "tMRlhSJVxIld",
        "outputId": "aad6d20d-bc19-45fb-e3c9-7891048f662b"
      },
      "execution_count": 24,
      "outputs": [
        {
          "output_type": "stream",
          "name": "stdout",
          "text": [
            "OrderedDict([('c', 7), ('a', [1, 2, 3]), ('b', [3, 5, 7])])\n"
          ]
        }
      ]
    },
    {
      "cell_type": "markdown",
      "source": [
        "6.\tWrite a Python program to check order of character in string using OrderedDict()?"
      ],
      "metadata": {
        "id": "z4CfUOPu9sX4"
      }
    },
    {
      "cell_type": "code",
      "source": [
        "from collections import OrderedDict\n",
        "\n",
        "def order_chk(a , b):\n",
        "  order_dict = OrderedDict.fromkeys(a)\n",
        "  pattern_length =0\n",
        "  for key,value in order_dict.items():\n",
        "      if (key == b[pattern_length]):\n",
        "         pattern_length = pattern_length + 1\n",
        "\n",
        "      if (pattern_length == (len(b))):\n",
        "         return 'The order of pattern is correct'\n",
        "\n",
        "  return 'The order of pattern is incorrect'\n"
      ],
      "metadata": {
        "id": "e05aH9Uf0PWs"
      },
      "execution_count": 25,
      "outputs": []
    },
    {
      "cell_type": "code",
      "source": [
        "print(order_chk(\"This is input\",\"Th\"))\n",
        "print(order_chk(\"This is input\",\"yi\"))"
      ],
      "metadata": {
        "colab": {
          "base_uri": "https://localhost:8080/"
        },
        "id": "m5ImrmVECWdh",
        "outputId": "9b3a9b90-81a6-411e-cb83-f8e4478e291c"
      },
      "execution_count": 26,
      "outputs": [
        {
          "output_type": "stream",
          "name": "stdout",
          "text": [
            "The order of pattern is correct\n",
            "The order of pattern is incorrect\n"
          ]
        }
      ]
    },
    {
      "cell_type": "markdown",
      "source": [
        "7.\tWrite a Python program to sort Python Dictionaries by Key or Value?"
      ],
      "metadata": {
        "id": "Y1EPi1ImC40F"
      }
    },
    {
      "cell_type": "code",
      "source": [
        "dict_a = {'a':4,'c':1, 'b':7, 'e':5,'d':8}\n",
        "\n",
        "print(sorted(dict_a.keys()))\n",
        "print(sorted(dict_a.values()))"
      ],
      "metadata": {
        "colab": {
          "base_uri": "https://localhost:8080/"
        },
        "id": "AB0g_AZbCkgI",
        "outputId": "dbb2181e-2cda-42c3-87ba-4f57b898f7fd"
      },
      "execution_count": 27,
      "outputs": [
        {
          "output_type": "stream",
          "name": "stdout",
          "text": [
            "['a', 'b', 'c', 'd', 'e']\n",
            "[1, 4, 5, 7, 8]\n"
          ]
        }
      ]
    },
    {
      "cell_type": "code",
      "source": [
        ""
      ],
      "metadata": {
        "id": "zw6SgTojFon9"
      },
      "execution_count": 27,
      "outputs": []
    }
  ]
}