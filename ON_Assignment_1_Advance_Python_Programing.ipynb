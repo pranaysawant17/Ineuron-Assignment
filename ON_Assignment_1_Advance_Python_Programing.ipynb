{
  "nbformat": 4,
  "nbformat_minor": 0,
  "metadata": {
    "colab": {
      "name": "ON Assignment 1: Advance Python Programing.ipynb",
      "provenance": [],
      "collapsed_sections": [],
      "authorship_tag": "ABX9TyMXZmYoFExZvd9xPLFXZRSo",
      "include_colab_link": true
    },
    "kernelspec": {
      "name": "python3",
      "display_name": "Python 3"
    },
    "language_info": {
      "name": "python"
    }
  },
  "cells": [
    {
      "cell_type": "markdown",
      "metadata": {
        "id": "view-in-github",
        "colab_type": "text"
      },
      "source": [
        "<a href=\"https://colab.research.google.com/github/pranaysawant17/Ineuron-Assignment/blob/main/ON_Assignment_1_Advance_Python_Programing.ipynb\" target=\"_parent\"><img src=\"https://colab.research.google.com/assets/colab-badge.svg\" alt=\"Open In Colab\"/></a>"
      ]
    },
    {
      "cell_type": "markdown",
      "source": [
        "1. Write a function that takes a list of lists and returns the value of all of the symbols in it, where each symbol adds or takes something from the total score. Symbol values:\n",
        "\n",
        "'#' = 5\n",
        "O = 3\n",
        "X = 1\n",
        "! = -1\n",
        "!! = -3\n",
        "!!! = -5\n"
      ],
      "metadata": {
        "id": "om1yFt_ISn-w"
      }
    },
    {
      "cell_type": "code",
      "execution_count": 36,
      "metadata": {
        "id": "lE5yrQ5jSLXR"
      },
      "outputs": [],
      "source": [
        "def check_score(a):\n",
        "  d_s= {'#': 5, 'O' :3,  'X' : 1, '!' : -1, '!!' : -3, '!!!' :-5}\n",
        "  sum = 0\n",
        "  for i in a:\n",
        "    for j in i:\n",
        "      sum+= d_s[j]\n",
        "  return sum\n",
        "\n",
        "\n"
      ]
    },
    {
      "cell_type": "code",
      "source": [
        "print(check_score([ [\"#\", \"!\"], [\"!!\", \"X\"]]))\n",
        "print(check_score([ [\"!!!\", \"O\", \"!\"], [\"X\", \"#\", \"!!!\"],  [\"!!\", \"X\", \"O\"]]))\n"
      ],
      "metadata": {
        "colab": {
          "base_uri": "https://localhost:8080/"
        },
        "id": "FioOoF_qT96Q",
        "outputId": "5c65043b-2a7f-4b00-b5a9-4cdd1eb3b735"
      },
      "execution_count": 37,
      "outputs": [
        {
          "output_type": "stream",
          "name": "stdout",
          "text": [
            "2\n",
            "-1\n"
          ]
        }
      ]
    },
    {
      "cell_type": "markdown",
      "source": [
        "Create a function that takes a variable number of arguments, each argument representing the number of items in a group, and returns the number of permutations (combinations) of items that you could get by taking one item from each group."
      ],
      "metadata": {
        "id": "d_aRs_eDaHuf"
      }
    },
    {
      "cell_type": "code",
      "source": [
        "def combinations(*a):\n",
        "  mul =1\n",
        "  for i in a:\n",
        "    mul*=i\n",
        "  return mul"
      ],
      "metadata": {
        "id": "zt-zIY-0UI5S"
      },
      "execution_count": 38,
      "outputs": []
    },
    {
      "cell_type": "code",
      "source": [
        "print(combinations(2, 3))\n",
        "print(combinations(3, 7, 4))\n",
        "print(combinations(2, 3, 4, 5))"
      ],
      "metadata": {
        "colab": {
          "base_uri": "https://localhost:8080/"
        },
        "id": "xJ5Cf5B0bGE5",
        "outputId": "723c7273-8a1f-4755-9674-1f2cf25f8a91"
      },
      "execution_count": 39,
      "outputs": [
        {
          "output_type": "stream",
          "name": "stdout",
          "text": [
            "6\n",
            "84\n",
            "120\n"
          ]
        }
      ]
    },
    {
      "cell_type": "markdown",
      "source": [
        "3. Create a function that takes a string as an argument and returns the Morse code equivalent."
      ],
      "metadata": {
        "id": "PiXs_1yzbWJm"
      }
    },
    {
      "cell_type": "code",
      "source": [
        "def encode_morse(a):\n",
        "  char_to_dots = {\n",
        "  'A': '.-', 'B': '-...', 'C': '-.-.', 'D': '-..', 'E': '.', 'F': '..-.',\n",
        "  'G': '--.', 'H': '....', 'I': '..', 'J': '.---', 'K': '-.-', 'L': '.-..',\n",
        "  'M': '--', 'N': '-.', 'O': '---', 'P': '.--.', 'Q': '--.-', 'R': '.-.',\n",
        "  'S': '...', 'T': '-', 'U': '..-', 'V': '...-', 'W': '.--', 'X': '-..-',\n",
        "  'Y': '-.--', 'Z': '--..', ' ': ' ', '0': '-----',\n",
        "  '1': '.----', '2': '..---', '3': '...--', '4': '....-', '5': '.....',\n",
        "  '6': '-....', '7': '--...', '8': '---..', '9': '----.',\n",
        "  '&': '.-...', \"'\": '.----.', '@': '.--.-.', ')': '-.--.-', '(': '-.--.',\n",
        "  ':': '---...', ',': '--..--', '=': '-...-', '!': '-.-.--', '.': '.-.-.-',\n",
        "  '-': '-....-', '+': '.-.-.', '\"': '.-..-.', '?': '..--..', '/': '-..-.'\n",
        "   }\n",
        "  s=''\n",
        "  for i in a:\n",
        "    s+= char_to_dots[i]\n",
        "  return s\n",
        "\n"
      ],
      "metadata": {
        "id": "CgPVk_XlbIK8"
      },
      "execution_count": 40,
      "outputs": []
    },
    {
      "cell_type": "code",
      "source": [
        "print(encode_morse(\"EDABBIT CHALLENGE\"))\n",
        "print(encode_morse(\"HELP ME !\"))"
      ],
      "metadata": {
        "colab": {
          "base_uri": "https://localhost:8080/"
        },
        "id": "bUjlqeiubzBn",
        "outputId": "c8ed0a7f-3a14-4572-d1d9-006f388d3c50"
      },
      "execution_count": 41,
      "outputs": [
        {
          "output_type": "stream",
          "name": "stdout",
          "text": [
            ".-...--...-.....- -.-......-.-...-...-.--..\n",
            "......-...--. --. -.-.--\n"
          ]
        }
      ]
    },
    {
      "cell_type": "markdown",
      "source": [
        "4.  Write a function that takes a number and returns True if it's a prime; False otherwise. The number can be 2^64-1 (2 to the power of 63, not XOR). With the standard technique it would be O(2^64-1), which is much too large for the 10 second time limit."
      ],
      "metadata": {
        "id": "fel-2_oPfm9w"
      }
    },
    {
      "cell_type": "code",
      "source": [
        "def prime(a):\n",
        "  if a < (2**64-1):\n",
        "    if a == 1 or a == 0:\n",
        "      return False\n",
        "    else:\n",
        "      for i in range(2,a):\n",
        "        if a%i == 0:\n",
        "          return False\n",
        "          break\n",
        "        \n",
        "      return True\n",
        "    \n",
        "  else:\n",
        "    return \"Number too big\""
      ],
      "metadata": {
        "id": "8IAuNWLHb21A"
      },
      "execution_count": 42,
      "outputs": []
    },
    {
      "cell_type": "code",
      "source": [
        "print(prime(2))\n",
        "\n",
        "print(prime(56963))\n",
        "\n",
        "print(prime(5151512515524))\n",
        "\n"
      ],
      "metadata": {
        "colab": {
          "base_uri": "https://localhost:8080/"
        },
        "id": "bRiwkl3ygeFZ",
        "outputId": "568076e5-2984-421f-9295-42cf9d29dc81"
      },
      "execution_count": 43,
      "outputs": [
        {
          "output_type": "stream",
          "name": "stdout",
          "text": [
            "True\n",
            "True\n",
            "False\n"
          ]
        }
      ]
    },
    {
      "cell_type": "markdown",
      "source": [
        "5.  Create a function that converts a word to a bitstring and then to a boolean list based on the following criteria:\n",
        "\n",
        "    1. Locate the position of the letter in the English alphabet (from 1 to 26).\n",
        "    2. Odd positions will be represented as 1 and 0 otherwise.\n",
        "    3. Convert the represented positions to boolean values, 1 for True and 0 for False.\n",
        "    4. Store the conversions into an array.\n"
      ],
      "metadata": {
        "id": "UBYGKfJmi1J7"
      }
    },
    {
      "cell_type": "code",
      "source": [
        "def to_boolean_list(a):\n",
        "  ans=[]\n",
        "  for i in a:\n",
        "    if (ord(i.lower())-96)%2 ==0:\n",
        "      ans.append(bool(0))\n",
        "    else:\n",
        "      ans.append(bool(1))\n",
        "  return ans\n",
        "\n"
      ],
      "metadata": {
        "id": "ydGMnYZFghOv"
      },
      "execution_count": 44,
      "outputs": []
    },
    {
      "cell_type": "code",
      "source": [
        "print(to_boolean_list(\"deep\"))\n",
        "print(to_boolean_list(\"loves\"))\n",
        "print(to_boolean_list(\"tesh\"))\n",
        "\n",
        "\n"
      ],
      "metadata": {
        "colab": {
          "base_uri": "https://localhost:8080/"
        },
        "id": "k1CEeoo6jqRh",
        "outputId": "a05ed4cd-da00-4434-c6c8-5c0ba964f9cb"
      },
      "execution_count": 45,
      "outputs": [
        {
          "output_type": "stream",
          "name": "stdout",
          "text": [
            "[False, True, True, False]\n",
            "[False, True, False, True, True]\n",
            "[False, True, True, False]\n"
          ]
        }
      ]
    }
  ]
}