{
  "nbformat": 4,
  "nbformat_minor": 0,
  "metadata": {
    "colab": {
      "name": "ON Assignment 24: Python Programing.ipynb",
      "provenance": [],
      "authorship_tag": "ABX9TyOukwIrvN3d/HuVYdPmzGP3",
      "include_colab_link": true
    },
    "kernelspec": {
      "name": "python3",
      "display_name": "Python 3"
    },
    "language_info": {
      "name": "python"
    }
  },
  "cells": [
    {
      "cell_type": "markdown",
      "metadata": {
        "id": "view-in-github",
        "colab_type": "text"
      },
      "source": [
        "<a href=\"https://colab.research.google.com/github/pranaysawant17/Ineuron-Assignment/blob/main/ON_Assignment_24_Python_Programing.ipynb\" target=\"_parent\"><img src=\"https://colab.research.google.com/assets/colab-badge.svg\" alt=\"Open In Colab\"/></a>"
      ]
    },
    {
      "cell_type": "markdown",
      "source": [
        "Question1\n",
        "Create a function that takes an integer and returns a list from 1 to the given number, where:\n",
        "1.\tIf the number can be divided evenly by 4, amplify it by 10 (i.e. return 10 times the number).\n",
        "2.\tIf the number cannot be divided evenly by 4, simply return the number.\n"
      ],
      "metadata": {
        "id": "A9g3ASiBbTw-"
      }
    },
    {
      "cell_type": "code",
      "execution_count": 29,
      "metadata": {
        "id": "pJch2LD0bKYp"
      },
      "outputs": [],
      "source": [
        "def amplify (a):\n",
        "  return [i*10 if i%4 ==0 else i for i in range(1,a+1)]"
      ]
    },
    {
      "cell_type": "code",
      "source": [
        "print(amplify(4))\n",
        "print(amplify(3))\n",
        "print(amplify(25))"
      ],
      "metadata": {
        "colab": {
          "base_uri": "https://localhost:8080/"
        },
        "id": "PUIXOqF1bwWc",
        "outputId": "7ab75fbe-1aaf-4611-f8c5-8fef19fd4dca"
      },
      "execution_count": 30,
      "outputs": [
        {
          "output_type": "stream",
          "name": "stdout",
          "text": [
            "[1, 2, 3, 40]\n",
            "[1, 2, 3]\n",
            "[1, 2, 3, 40, 5, 6, 7, 80, 9, 10, 11, 120, 13, 14, 15, 160, 17, 18, 19, 200, 21, 22, 23, 240, 25]\n"
          ]
        }
      ]
    },
    {
      "cell_type": "markdown",
      "source": [
        "Question2\n",
        "Create a function that takes a list of numbers and return the number that's unique.\n"
      ],
      "metadata": {
        "id": "PkzqqpEAcL5k"
      }
    },
    {
      "cell_type": "code",
      "source": [
        "def unique(a):\n",
        "   for i in a:\n",
        "     if a.count(i)== 1:\n",
        "       return i \n",
        "     "
      ],
      "metadata": {
        "id": "Vcom3pMKcU-j"
      },
      "execution_count": 31,
      "outputs": []
    },
    {
      "cell_type": "code",
      "source": [
        "print(unique([3, 3, 3, 7, 3, 3]))\n",
        "print(unique([0, 0, 0.77, 0, 0]))\n",
        "print(unique([0, 1, 1, 1, 1, 1, 1, 1]))"
      ],
      "metadata": {
        "colab": {
          "base_uri": "https://localhost:8080/"
        },
        "id": "3INOR9rrgc2s",
        "outputId": "90a489a7-5c93-4769-b960-f763ec47b2a0"
      },
      "execution_count": 32,
      "outputs": [
        {
          "output_type": "stream",
          "name": "stdout",
          "text": [
            "7\n",
            "0.77\n",
            "0\n"
          ]
        }
      ]
    },
    {
      "cell_type": "markdown",
      "source": [
        "Your task is to create a Circle constructor that creates a circle with a radius provided by an argument. The circles constructed must have two getters getArea() (PIr^2) and getPerimeter() (2PI*r) which give both respective areas and perimeter (circumference)."
      ],
      "metadata": {
        "id": "ojdJ7Q3Gg85M"
      }
    },
    {
      "cell_type": "code",
      "source": [
        "import math\n",
        "class Circle():\n",
        "  def __init__(self,r):\n",
        "    self.r = r\n",
        "  def getArea(self):\n",
        "    return round(math.pi*(self.r**2))\n",
        "  def getPerimeter(self):\n",
        "    return round(2*math.pi*self.r)\n",
        "\n",
        "   "
      ],
      "metadata": {
        "id": "tsnARD-RhWdN"
      },
      "execution_count": 33,
      "outputs": []
    },
    {
      "cell_type": "code",
      "source": [
        "circy = Circle(11)\n",
        "print(circy.getArea())\n",
        "\n",
        "circy = Circle(4.44)\n",
        "print(circy.getPerimeter())\n"
      ],
      "metadata": {
        "colab": {
          "base_uri": "https://localhost:8080/"
        },
        "id": "iGCB6M4jiCRL",
        "outputId": "a81fbce0-185d-4060-f609-08c7278729e8"
      },
      "execution_count": 34,
      "outputs": [
        {
          "output_type": "stream",
          "name": "stdout",
          "text": [
            "380\n",
            "28\n"
          ]
        }
      ]
    },
    {
      "cell_type": "markdown",
      "source": [
        "Question4\n",
        "Create a function that takes a list of strings and return a list, sorted from shortest to longest.\n"
      ],
      "metadata": {
        "id": "BWVX6omyiaF2"
      }
    },
    {
      "cell_type": "code",
      "source": [
        "def sort_by_length(a):\n",
        "  return sorted(a, key = len)\n"
      ],
      "metadata": {
        "id": "IYZnzucIiZIr"
      },
      "execution_count": 35,
      "outputs": []
    },
    {
      "cell_type": "code",
      "source": [
        "print(sort_by_length([\"Google\", \"Apple\", \"Microsoft\"]))\n",
        "print(sort_by_length([\"Leonardo\", \"Michelangelo\", \"Raphael\", \"Donatello\"]))\n",
        "print(sort_by_length([\"Turing\", \"Einstein\", \"Jung\"]))\n"
      ],
      "metadata": {
        "colab": {
          "base_uri": "https://localhost:8080/"
        },
        "id": "zItAdZS8jopf",
        "outputId": "b7217b22-d2a2-41c2-ec05-84ea6ef1ed80"
      },
      "execution_count": 36,
      "outputs": [
        {
          "output_type": "stream",
          "name": "stdout",
          "text": [
            "['Apple', 'Google', 'Microsoft']\n",
            "['Raphael', 'Leonardo', 'Donatello', 'Michelangelo']\n",
            "['Jung', 'Turing', 'Einstein']\n"
          ]
        }
      ]
    },
    {
      "cell_type": "markdown",
      "source": [
        "Question5\n",
        "Create a function that validates whether three given integers form a Pythagorean triplet. The sum of the squares of the two smallest integers must equal the square of the largest number to be validated.\n"
      ],
      "metadata": {
        "id": "wxJtyOrllgIe"
      }
    },
    {
      "cell_type": "code",
      "source": [
        "def is_triplet(a,b,c):\n",
        "  x,y,z= sorted([a,b,c])\n",
        "  return  x**2 + y**2==z**2"
      ],
      "metadata": {
        "id": "Fg5_t8MJlp2Y"
      },
      "execution_count": 37,
      "outputs": []
    },
    {
      "cell_type": "code",
      "source": [
        "print(is_triplet(3, 4, 5))\n",
        "print(is_triplet(13, 5, 12)) \n",
        "print(is_triplet(1, 2, 3))\n"
      ],
      "metadata": {
        "colab": {
          "base_uri": "https://localhost:8080/"
        },
        "id": "vqMk4p2fl3WI",
        "outputId": "b77eb0a7-8109-4f95-ab9c-87f42e940cbd"
      },
      "execution_count": 38,
      "outputs": [
        {
          "output_type": "stream",
          "name": "stdout",
          "text": [
            "True\n",
            "True\n",
            "False\n"
          ]
        }
      ]
    }
  ]
}