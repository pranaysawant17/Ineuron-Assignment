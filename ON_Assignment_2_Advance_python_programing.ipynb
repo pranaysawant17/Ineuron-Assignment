{
  "nbformat": 4,
  "nbformat_minor": 0,
  "metadata": {
    "colab": {
      "name": "ON Assignment 2: Advance python programing.ipynb",
      "provenance": [],
      "authorship_tag": "ABX9TyPxEPGzPll2vd3SVxEhMsEy",
      "include_colab_link": true
    },
    "kernelspec": {
      "name": "python3",
      "display_name": "Python 3"
    },
    "language_info": {
      "name": "python"
    }
  },
  "cells": [
    {
      "cell_type": "markdown",
      "metadata": {
        "id": "view-in-github",
        "colab_type": "text"
      },
      "source": [
        "<a href=\"https://colab.research.google.com/github/pranaysawant17/Ineuron-Assignment/blob/main/ON_Assignment_2_Advance_python_programing.ipynb\" target=\"_parent\"><img src=\"https://colab.research.google.com/assets/colab-badge.svg\" alt=\"Open In Colab\"/></a>"
      ]
    },
    {
      "cell_type": "markdown",
      "source": [
        "1. Write a function that takes a positive integer num and calculates how many dots exist in a pentagonal shape around the center dot on the Nth iteration.\n",
        "\n",
        "In the image below you can see the first iteration is only a single dot. On the second, there are 6 dots. On the third, there are 16 dots, and on the fourth there are 31 dots.\n"
      ],
      "metadata": {
        "id": "62tDhNuqpLjP"
      }
    },
    {
      "cell_type": "code",
      "execution_count": 1,
      "metadata": {
        "id": "fDstJn8do-6F"
      },
      "outputs": [],
      "source": [
        "def pentagonal(a):\n",
        "  return (5*(a**2)-5*a + 2)/2 # formula Cp_{n}=(5n^2-5n+2)/2"
      ]
    },
    {
      "cell_type": "code",
      "source": [
        "print(pentagonal(1))\n",
        "print(pentagonal(2))\n",
        "print(pentagonal(3))\n",
        "print(pentagonal(8))"
      ],
      "metadata": {
        "colab": {
          "base_uri": "https://localhost:8080/"
        },
        "id": "DK4jz7pUsSSy",
        "outputId": "a2ac34c7-1c0b-45e4-eeb8-d607d51ff8ca"
      },
      "execution_count": 3,
      "outputs": [
        {
          "output_type": "stream",
          "name": "stdout",
          "text": [
            "1.0\n",
            "6.0\n",
            "16.0\n",
            "141.0\n"
          ]
        }
      ]
    },
    {
      "cell_type": "markdown",
      "source": [
        "2.  Make a function that encrypts a given input with these steps:\n",
        "\n",
        "Input: \"apple\"\n",
        "\n",
        "Step 1: Reverse the input: \"elppa\"\n",
        "\n",
        "Step 2: Replace all vowels using the following chart:\n",
        "\n",
        "a => 0\n",
        "e => 1\n",
        "i => 2\n",
        "o => 2\n",
        "u => 3\n",
        "\n",
        " \"1lpp0\"\n",
        "\n",
        "Step 3: Add \"aca\" to the end of the word: \"1lpp0aca\"\n"
      ],
      "metadata": {
        "id": "rlJgjHsBse0n"
      }
    },
    {
      "cell_type": "code",
      "source": [
        "def encrypt(a):\n",
        "  d_v = {'a' : '0', 'e' : '1', 'i' : '2' ,'o' : '2', 'u' : '3'}\n",
        "  rev = a[::-1]\n",
        "  new = ''\n",
        "  for i in rev:\n",
        "    if i in [\"a\",\"e\", \"i\", \"o\", \"u\"]:\n",
        "      new += d_v[i]\n",
        "    else:\n",
        "      new+= i\n",
        "  return new + \"aca\"\n",
        "\n",
        "\n"
      ],
      "metadata": {
        "id": "Q5YSe6UWsWHd"
      },
      "execution_count": 8,
      "outputs": []
    },
    {
      "cell_type": "code",
      "source": [
        "print(encrypt(\"banana\"))\n",
        "print(encrypt(\"karaca\"))\n",
        "print(encrypt(\"burak\"))\n",
        "print(encrypt(\"alpaca\"))"
      ],
      "metadata": {
        "colab": {
          "base_uri": "https://localhost:8080/"
        },
        "id": "oTT4m-aMvOR8",
        "outputId": "06b1219e-2a66-43d9-a966-b6e81c122e74"
      },
      "execution_count": 10,
      "outputs": [
        {
          "output_type": "stream",
          "name": "stdout",
          "text": [
            "0n0n0baca\n",
            "0c0r0kaca\n",
            "k0r3baca\n",
            "0c0pl0aca\n"
          ]
        }
      ]
    },
    {
      "cell_type": "code",
      "source": [
        ""
      ],
      "metadata": {
        "id": "Z8lY2MH8vRsC"
      },
      "execution_count": null,
      "outputs": []
    }
  ]
}