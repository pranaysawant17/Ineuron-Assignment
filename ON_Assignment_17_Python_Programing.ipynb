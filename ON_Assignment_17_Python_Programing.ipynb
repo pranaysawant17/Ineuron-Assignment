{
  "nbformat": 4,
  "nbformat_minor": 0,
  "metadata": {
    "colab": {
      "name": "ON Assignment 17: Python Programing.ipynb",
      "provenance": [],
      "collapsed_sections": [],
      "authorship_tag": "ABX9TyP5fA40stCrCEKDMLZXwMzq",
      "include_colab_link": true
    },
    "kernelspec": {
      "name": "python3",
      "display_name": "Python 3"
    },
    "language_info": {
      "name": "python"
    }
  },
  "cells": [
    {
      "cell_type": "markdown",
      "metadata": {
        "id": "view-in-github",
        "colab_type": "text"
      },
      "source": [
        "<a href=\"https://colab.research.google.com/github/pranaysawant17/Ineuron-Assignment/blob/main/ON_Assignment_17_Python_Programing.ipynb\" target=\"_parent\"><img src=\"https://colab.research.google.com/assets/colab-badge.svg\" alt=\"Open In Colab\"/></a>"
      ]
    },
    {
      "cell_type": "markdown",
      "source": [
        "Question1. Create a function that takes three arguments a, b, c and returns the sum of the numbers that are evenly divided by c from the range a, b inclusive."
      ],
      "metadata": {
        "id": "WRwrpolmrX61"
      }
    },
    {
      "cell_type": "code",
      "execution_count": 41,
      "metadata": {
        "id": "EefpBeptrQy8"
      },
      "outputs": [],
      "source": [
        "def evenly_divisible(a,b,c):\n",
        "  sum=0\n",
        "  for i in range (a,b+1):\n",
        "    if i%c==0:\n",
        "      sum+=i\n",
        "  return sum\n"
      ]
    },
    {
      "cell_type": "code",
      "source": [
        "print(evenly_divisible(1, 10, 20) )\n",
        "print(evenly_divisible(1, 10, 2) )\n",
        "print(evenly_divisible(1, 10, 3) )"
      ],
      "metadata": {
        "colab": {
          "base_uri": "https://localhost:8080/"
        },
        "id": "WB9_LhtWsMz7",
        "outputId": "c4bc6657-8e88-416e-fce6-56dcb632064e"
      },
      "execution_count": 42,
      "outputs": [
        {
          "output_type": "stream",
          "name": "stdout",
          "text": [
            "0\n",
            "30\n",
            "18\n"
          ]
        }
      ]
    },
    {
      "cell_type": "markdown",
      "source": [
        "Question2. Create a function that returns True if a given inequality expression is correct and False otherwise."
      ],
      "metadata": {
        "id": "3Ol10z6VsMTi"
      }
    },
    {
      "cell_type": "code",
      "source": [
        "def correct_signs(a):\n",
        "  return eval(a)"
      ],
      "metadata": {
        "id": "pUZloAz6siOs"
      },
      "execution_count": 43,
      "outputs": []
    },
    {
      "cell_type": "code",
      "source": [
        "print(correct_signs(\"3 < 7 < 11\"))\n",
        "\n",
        "print(correct_signs(\"13 > 44 > 33 > 1\"))\n",
        "\n",
        "print(correct_signs(\"1 < 2 < 6 < 9 > 3\"))\n"
      ],
      "metadata": {
        "colab": {
          "base_uri": "https://localhost:8080/"
        },
        "id": "1dvl6A8etLdq",
        "outputId": "6688167a-e84c-4028-b0ea-143714574543"
      },
      "execution_count": 44,
      "outputs": [
        {
          "output_type": "stream",
          "name": "stdout",
          "text": [
            "True\n",
            "False\n",
            "True\n"
          ]
        }
      ]
    },
    {
      "cell_type": "markdown",
      "source": [
        "Question3. Create a function that replaces all the vowels in a string with a specified character."
      ],
      "metadata": {
        "id": "K8sds37otvJE"
      }
    },
    {
      "cell_type": "code",
      "source": [
        "def replace_vowels(s,c):\n",
        "  new=''\n",
        "  for i in s:\n",
        "    if i in ['a','e','i','o','u']:\n",
        "       new+=c\n",
        "    else:\n",
        "      new+=i\n",
        "  return new"
      ],
      "metadata": {
        "id": "FQH9Bp-rtNcB"
      },
      "execution_count": 45,
      "outputs": []
    },
    {
      "cell_type": "code",
      "source": [
        "print(replace_vowels(\"the aardvark\", \"#\"))\n",
        "print(replace_vowels(\"minnie mouse\", \"?\"))\n",
        "print(replace_vowels(\"shakespeare\", \"*\"))"
      ],
      "metadata": {
        "colab": {
          "base_uri": "https://localhost:8080/"
        },
        "id": "uiWJA4r5uUiY",
        "outputId": "a59a4b30-0f81-4e5b-a891-3b9ed3e24d3d"
      },
      "execution_count": 46,
      "outputs": [
        {
          "output_type": "stream",
          "name": "stdout",
          "text": [
            "th# ##rdv#rk\n",
            "m?nn?? m??s?\n",
            "sh*k*sp**r*\n"
          ]
        }
      ]
    },
    {
      "cell_type": "markdown",
      "source": [
        "Question4. Write a function that calculates the factorial of a number recursively."
      ],
      "metadata": {
        "id": "Q4Tc14hYvFSL"
      }
    },
    {
      "cell_type": "code",
      "source": [
        "def factorial(num):\n",
        "  if num == 0:\n",
        "    return 1\n",
        "  elif num == 1:\n",
        "    return 1\n",
        "  else:\n",
        "    return num * factorial(num-1)\n",
        "      \n"
      ],
      "metadata": {
        "id": "s1X5DYdUvGOH"
      },
      "execution_count": 47,
      "outputs": []
    },
    {
      "cell_type": "code",
      "source": [
        "print(factorial(5) )\n",
        "print(factorial(3))\n",
        "print(factorial(1))\n",
        "print(factorial(0))\n"
      ],
      "metadata": {
        "colab": {
          "base_uri": "https://localhost:8080/"
        },
        "id": "KCfKMa25v1UX",
        "outputId": "836a0c79-7d3c-4250-9a18-beb8dab6c747"
      },
      "execution_count": 48,
      "outputs": [
        {
          "output_type": "stream",
          "name": "stdout",
          "text": [
            "120\n",
            "6\n",
            "1\n",
            "1\n"
          ]
        }
      ]
    },
    {
      "cell_type": "markdown",
      "source": [
        "Question 5\n",
        "Hamming distance is the number of characters that differ between two strings.\n",
        "To illustrate:\n",
        "String1: \"abcbba\"\n",
        "String2: \"abcbda\"\n",
        "\n",
        "Hamming Distance: 1 - \"b\" vs. \"d\" is the only difference.\n",
        "Create a function that computes the hamming distance between two strings.\n"
      ],
      "metadata": {
        "id": "ZMuXKYPrwLOw"
      }
    },
    {
      "cell_type": "code",
      "source": [
        "def hamming_distance(a,b):\n",
        "  c = 0\n",
        " \n",
        "  for i in range(len(a)):\n",
        "   \n",
        "    if a[i] != b[i]:\n",
        "      c+=1\n",
        "    \n",
        "    else:\n",
        "      continue\n",
        "  return c\n"
      ],
      "metadata": {
        "id": "mdRYF_0WwW-1"
      },
      "execution_count": 49,
      "outputs": []
    },
    {
      "cell_type": "code",
      "source": [
        "print(hamming_distance(\"abcde\", \"bcdef\"))\n",
        "print(hamming_distance(\"abcde\", \"abcde\"))\n",
        "print(hamming_distance(\"strong\", \"strung\") )\n"
      ],
      "metadata": {
        "colab": {
          "base_uri": "https://localhost:8080/"
        },
        "id": "lzyBsI9Yxu5r",
        "outputId": "d59e21e6-e2b5-4877-c248-de15909ad928"
      },
      "execution_count": 50,
      "outputs": [
        {
          "output_type": "stream",
          "name": "stdout",
          "text": [
            "5\n",
            "0\n",
            "1\n"
          ]
        }
      ]
    },
    {
      "cell_type": "code",
      "source": [
        ""
      ],
      "metadata": {
        "id": "Xt1VmpiOyTJT"
      },
      "execution_count": 50,
      "outputs": []
    }
  ]
}