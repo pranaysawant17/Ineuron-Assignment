{
  "nbformat": 4,
  "nbformat_minor": 0,
  "metadata": {
    "colab": {
      "name": "ON assignment2: Python Programming.ipynb",
      "provenance": [],
      "collapsed_sections": [],
      "authorship_tag": "ABX9TyMuM1dHc5TsvgvyoKyoCQRk",
      "include_colab_link": true
    },
    "kernelspec": {
      "name": "python3",
      "display_name": "Python 3"
    },
    "language_info": {
      "name": "python"
    }
  },
  "cells": [
    {
      "cell_type": "markdown",
      "metadata": {
        "id": "view-in-github",
        "colab_type": "text"
      },
      "source": [
        "<a href=\"https://colab.research.google.com/github/pranaysawant17/Ineuron-Assignment/blob/main/ON_assignment2_Python_Programming.ipynb\" target=\"_parent\"><img src=\"https://colab.research.google.com/assets/colab-badge.svg\" alt=\"Open In Colab\"/></a>"
      ]
    },
    {
      "cell_type": "markdown",
      "source": [
        "1.\tWrite a Python program to convert kilometers to miles?"
      ],
      "metadata": {
        "id": "wQ_aH1VuaTcA"
      }
    },
    {
      "cell_type": "code",
      "execution_count": 15,
      "metadata": {
        "colab": {
          "base_uri": "https://localhost:8080/"
        },
        "id": "1SYJHQATaFmm",
        "outputId": "f68e2e9b-bf97-4180-ef25-35401a00775a"
      },
      "outputs": [
        {
          "output_type": "stream",
          "name": "stdout",
          "text": [
            "Enter Kilometers: 10\n",
            "10.0 KM is 6.21371 Miles\n"
          ]
        }
      ],
      "source": [
        "km = float(input(\"Enter Kilometers: \"))\n",
        "\n",
        "miles = km * 0.621371\n",
        "\n",
        "print (km, \"KM is\", miles , \"Miles\")\n"
      ]
    },
    {
      "cell_type": "markdown",
      "source": [
        "2.\tWrite a Python program to convert Celsius to Fahrenheit?"
      ],
      "metadata": {
        "id": "97n7nVkEbIOY"
      }
    },
    {
      "cell_type": "code",
      "source": [
        "cel = float (input ( \" Enter temperature in degree celcius: \"))\n",
        "\n",
        "far = (9/5)*cel + 32\n",
        "\n",
        "print (cel, \" Deg. Celcius is\",far, \"Fahrenheit\" )"
      ],
      "metadata": {
        "colab": {
          "base_uri": "https://localhost:8080/"
        },
        "id": "5dcJOcjFbMjj",
        "outputId": "2f62b986-8993-41d1-b1d0-a95031a98ca8"
      },
      "execution_count": 16,
      "outputs": [
        {
          "output_type": "stream",
          "name": "stdout",
          "text": [
            " Enter temperature in degree celcius: 32\n",
            "32.0  Deg. Celcius is 89.6 Fahrenheit\n"
          ]
        }
      ]
    },
    {
      "cell_type": "markdown",
      "source": [
        "3.\tWrite a Python program to display calendar?"
      ],
      "metadata": {
        "id": "_1Lpi0GEb9SW"
      }
    },
    {
      "cell_type": "code",
      "source": [
        "import calendar\n",
        "\n",
        "print (calendar.calendar(2022,2,1,6,4))"
      ],
      "metadata": {
        "colab": {
          "base_uri": "https://localhost:8080/"
        },
        "id": "e_-lsDJDb8Np",
        "outputId": "47394455-664f-46fb-9bed-c6ee7e25d7b6"
      },
      "execution_count": 17,
      "outputs": [
        {
          "output_type": "stream",
          "name": "stdout",
          "text": [
            "                                               2022\n",
            "\n",
            "      January                   February                   March                     April\n",
            "Mo Tu We Th Fr Sa Su      Mo Tu We Th Fr Sa Su      Mo Tu We Th Fr Sa Su      Mo Tu We Th Fr Sa Su\n",
            "                1  2          1  2  3  4  5  6          1  2  3  4  5  6                   1  2  3\n",
            " 3  4  5  6  7  8  9       7  8  9 10 11 12 13       7  8  9 10 11 12 13       4  5  6  7  8  9 10\n",
            "10 11 12 13 14 15 16      14 15 16 17 18 19 20      14 15 16 17 18 19 20      11 12 13 14 15 16 17\n",
            "17 18 19 20 21 22 23      21 22 23 24 25 26 27      21 22 23 24 25 26 27      18 19 20 21 22 23 24\n",
            "24 25 26 27 28 29 30      28                        28 29 30 31               25 26 27 28 29 30\n",
            "31\n",
            "\n",
            "        May                       June                      July                     August\n",
            "Mo Tu We Th Fr Sa Su      Mo Tu We Th Fr Sa Su      Mo Tu We Th Fr Sa Su      Mo Tu We Th Fr Sa Su\n",
            "                   1             1  2  3  4  5                   1  2  3       1  2  3  4  5  6  7\n",
            " 2  3  4  5  6  7  8       6  7  8  9 10 11 12       4  5  6  7  8  9 10       8  9 10 11 12 13 14\n",
            " 9 10 11 12 13 14 15      13 14 15 16 17 18 19      11 12 13 14 15 16 17      15 16 17 18 19 20 21\n",
            "16 17 18 19 20 21 22      20 21 22 23 24 25 26      18 19 20 21 22 23 24      22 23 24 25 26 27 28\n",
            "23 24 25 26 27 28 29      27 28 29 30               25 26 27 28 29 30 31      29 30 31\n",
            "30 31\n",
            "\n",
            "     September                  October                   November                  December\n",
            "Mo Tu We Th Fr Sa Su      Mo Tu We Th Fr Sa Su      Mo Tu We Th Fr Sa Su      Mo Tu We Th Fr Sa Su\n",
            "          1  2  3  4                      1  2          1  2  3  4  5  6                1  2  3  4\n",
            " 5  6  7  8  9 10 11       3  4  5  6  7  8  9       7  8  9 10 11 12 13       5  6  7  8  9 10 11\n",
            "12 13 14 15 16 17 18      10 11 12 13 14 15 16      14 15 16 17 18 19 20      12 13 14 15 16 17 18\n",
            "19 20 21 22 23 24 25      17 18 19 20 21 22 23      21 22 23 24 25 26 27      19 20 21 22 23 24 25\n",
            "26 27 28 29 30            24 25 26 27 28 29 30      28 29 30                  26 27 28 29 30 31\n",
            "                          31\n",
            "\n"
          ]
        }
      ]
    },
    {
      "cell_type": "markdown",
      "source": [
        "4.\tWrite a Python program to solve quadratic equation?"
      ],
      "metadata": {
        "id": "Yj8bqnBIdgQ3"
      }
    },
    {
      "cell_type": "code",
      "source": [
        "print(\"Quadratic equation is of form ax^2 + bx + c = 0\")\n",
        "a = float(input(\"Enter value of constant a at x^2: \"))\n",
        "b = float(input(\"Enter value of constant b at x: \"))\n",
        "c = float(input(\"Enter value of constant c: \"))\n",
        "\n",
        "x1 , x2 = (-b + (b**2 - 4*a*c)**0.5)/(2*a),(-b - (b**2 - 4*a*c)**0.5)/(2*a)\n",
        "\n",
        "print(\"Your Given equation is \" ,a ,\"*x^2 +\",b,\"*x +\" ,c,\"=0\")\n",
        "print (\"Solution value for x is :\", x1,\",\" ,x2)"
      ],
      "metadata": {
        "colab": {
          "base_uri": "https://localhost:8080/"
        },
        "id": "ArcszIe6b1KY",
        "outputId": "40785949-28fe-40ce-da62-4cfcc93b827b"
      },
      "execution_count": 18,
      "outputs": [
        {
          "output_type": "stream",
          "name": "stdout",
          "text": [
            "Quadratic equation is of form ax^2 + bx + c = 0\n",
            "Enter value of constant a at x^2: 1\n",
            "Enter value of constant b at x: -15\n",
            "Enter value of constant c: -15\n",
            "Your Given equation is  1.0 *x^2 + -15.0 *x + -15.0 =0\n",
            "Solution value for x is : 15.940971508067067 , -0.9409715080670669\n"
          ]
        }
      ]
    },
    {
      "cell_type": "markdown",
      "source": [
        "5.\tWrite a Python program to swap two variables without temp variable?"
      ],
      "metadata": {
        "id": "LiBbwWvLgdnL"
      }
    },
    {
      "cell_type": "code",
      "source": [
        "a = input(\"Enter first value or character :\")\n",
        "b = input(\"Enter second value or character :\")\n",
        "\n",
        "a,b = b,a\n",
        "\n",
        "print (\"After swap value of a =\", a)\n",
        "print (\"After swap value of b =\", b)"
      ],
      "metadata": {
        "colab": {
          "base_uri": "https://localhost:8080/"
        },
        "id": "0Tk2TlzUg3Uw",
        "outputId": "6fbc16ca-986e-4846-d6b6-1ae2d711db66"
      },
      "execution_count": 19,
      "outputs": [
        {
          "output_type": "stream",
          "name": "stdout",
          "text": [
            "Enter first value or character :10\n",
            "Enter second value or character :20\n",
            "After swap value of a = 20\n",
            "After swap value of b = 10\n"
          ]
        }
      ]
    }
  ]
}