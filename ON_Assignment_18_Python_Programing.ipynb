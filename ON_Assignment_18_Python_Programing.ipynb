{
  "nbformat": 4,
  "nbformat_minor": 0,
  "metadata": {
    "colab": {
      "name": "ON Assignment 18: Python Programing.ipynb",
      "provenance": [],
      "collapsed_sections": [],
      "authorship_tag": "ABX9TyNWy0bLcTKBBZ5t/Qk72+S1",
      "include_colab_link": true
    },
    "kernelspec": {
      "name": "python3",
      "display_name": "Python 3"
    },
    "language_info": {
      "name": "python"
    }
  },
  "cells": [
    {
      "cell_type": "markdown",
      "metadata": {
        "id": "view-in-github",
        "colab_type": "text"
      },
      "source": [
        "<a href=\"https://colab.research.google.com/github/pranaysawant17/Ineuron-Assignment/blob/main/ON_Assignment_18_Python_Programing.ipynb\" target=\"_parent\"><img src=\"https://colab.research.google.com/assets/colab-badge.svg\" alt=\"Open In Colab\"/></a>"
      ]
    },
    {
      "cell_type": "markdown",
      "source": [
        "Question 1\n",
        "Create a function that takes a list of non-negative integers and strings and return a new list without the strings.\n"
      ],
      "metadata": {
        "id": "L8GHMB5JlvMg"
      }
    },
    {
      "cell_type": "code",
      "execution_count": 1,
      "metadata": {
        "id": "HNvv685FlTaP"
      },
      "outputs": [],
      "source": [
        "def filter_list(a):\n",
        "  return [i for i in a if type(i)!= str]"
      ]
    },
    {
      "cell_type": "code",
      "source": [
        "print(filter_list([1, 2, \"a\", \"b\"]))\n",
        "print(filter_list([1, \"a\", \"b\", 0, 15])) \n",
        "print(filter_list([1, 2, \"aasf\", \"1\", \"123\", 123]))\n"
      ],
      "metadata": {
        "colab": {
          "base_uri": "https://localhost:8080/"
        },
        "id": "7C0QgGXYm3kc",
        "outputId": "8ec57301-f905-476c-afca-3ad8208a8ff1"
      },
      "execution_count": 2,
      "outputs": [
        {
          "output_type": "stream",
          "name": "stdout",
          "text": [
            "[1, 2]\n",
            "[1, 0, 15]\n",
            "[1, 2, 123]\n"
          ]
        }
      ]
    },
    {
      "cell_type": "markdown",
      "source": [
        "The \"Reverser\" takes a string as input and returns that string in reverse order, with the opposite case."
      ],
      "metadata": {
        "id": "_3LVpWT7nODD"
      }
    },
    {
      "cell_type": "code",
      "source": [
        "def reverse(a):\n",
        "  return a[::-1].swapcase()\n"
      ],
      "metadata": {
        "id": "cEgzJNu7nF9V"
      },
      "execution_count": 3,
      "outputs": []
    },
    {
      "cell_type": "code",
      "source": [
        "print(reverse(\"Hello World\") )\n",
        "print(reverse(\"ReVeRsE\") )\n",
        "print(reverse(\"Radar\"))"
      ],
      "metadata": {
        "colab": {
          "base_uri": "https://localhost:8080/"
        },
        "id": "EdBs5vw2pQpO",
        "outputId": "22e92ec8-5965-4ef1-e23d-62feeb64973f"
      },
      "execution_count": 5,
      "outputs": [
        {
          "output_type": "stream",
          "name": "stdout",
          "text": [
            "DLROw OLLEh\n",
            "eSrEvEr\n",
            "RADAr\n"
          ]
        }
      ]
    },
    {
      "cell_type": "markdown",
      "source": [
        "Your task is to unpack the list writeyourcodehere into three variables, being first, middle, and last, with middle being everything in between the first and last element. Then print all three variables."
      ],
      "metadata": {
        "id": "OjSxZ1lZp6ZI"
      }
    },
    {
      "cell_type": "code",
      "source": [
        "lst = [1, 2, 3, 4, 5, 6]\n",
        "\n",
        "first,*middle,last= lst\n",
        "\n",
        "print(first)\n",
        "print(*middle)\n",
        "print(last)"
      ],
      "metadata": {
        "colab": {
          "base_uri": "https://localhost:8080/"
        },
        "id": "ycwq_i40rYxc",
        "outputId": "ac999d06-ab81-47f9-d2cd-ce1b6bab2898"
      },
      "execution_count": 6,
      "outputs": [
        {
          "output_type": "stream",
          "name": "stdout",
          "text": [
            "1\n",
            "2 3 4 5\n",
            "6\n"
          ]
        }
      ]
    },
    {
      "cell_type": "markdown",
      "source": [
        "Question 4\n",
        "Write a function that calculates the factorial of a number recursively.\n"
      ],
      "metadata": {
        "id": "oSEj-diysGWf"
      }
    },
    {
      "cell_type": "code",
      "source": [
        "def factorial(n):\n",
        "  \n",
        "  if n== 0:\n",
        "    return 1\n",
        "  elif n==1:\n",
        "    return 1\n",
        "  else:\n",
        "    return n * factorial (n-1)\n"
      ],
      "metadata": {
        "id": "OfcbuUCisJsK"
      },
      "execution_count": 7,
      "outputs": []
    },
    {
      "cell_type": "code",
      "source": [
        "print(factorial(5))\n",
        "\n",
        "print(factorial(3))\n",
        "\n",
        "print(factorial(1))\n",
        "\n",
        "print(factorial(0))\n"
      ],
      "metadata": {
        "colab": {
          "base_uri": "https://localhost:8080/"
        },
        "id": "izvD2ltOs_u2",
        "outputId": "a4053d3a-f676-4210-963d-a104a4cb57d0"
      },
      "execution_count": 8,
      "outputs": [
        {
          "output_type": "stream",
          "name": "stdout",
          "text": [
            "120\n",
            "6\n",
            "1\n",
            "1\n"
          ]
        }
      ]
    },
    {
      "cell_type": "markdown",
      "source": [
        "Write a function that moves all elements of one type to the end of the list."
      ],
      "metadata": {
        "id": "ddBmYQQqtTT9"
      }
    },
    {
      "cell_type": "code",
      "source": [
        "def move_to_end(a,b): # Ref Geeks for geeks\n",
        "  return sorted(a,key=b.__eq__)"
      ],
      "metadata": {
        "id": "pfVrQC9WyI6b"
      },
      "execution_count": 15,
      "outputs": []
    },
    {
      "cell_type": "code",
      "source": [
        "print(move_to_end([1, 3, 2, 4, 4, 1], 1) )\n",
        "print(move_to_end([7, 8, 9, 1, 2, 3, 4], 9))\n",
        "print(move_to_end([\"a\", \"a\", \"a\", \"b\"], \"a\"))"
      ],
      "metadata": {
        "colab": {
          "base_uri": "https://localhost:8080/"
        },
        "id": "W7K2Zxo_yNVf",
        "outputId": "f77a5323-a591-426c-8315-fc7b8378b875"
      },
      "execution_count": 17,
      "outputs": [
        {
          "output_type": "stream",
          "name": "stdout",
          "text": [
            "[3, 2, 4, 4, 1, 1]\n",
            "[7, 8, 1, 2, 3, 4, 9]\n",
            "['b', 'a', 'a', 'a']\n"
          ]
        }
      ]
    }
  ]
}