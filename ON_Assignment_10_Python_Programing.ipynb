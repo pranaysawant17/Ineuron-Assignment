{
  "nbformat": 4,
  "nbformat_minor": 0,
  "metadata": {
    "colab": {
      "name": "ON Assignment 10: Python Programing.ipynb",
      "provenance": [],
      "authorship_tag": "ABX9TyMZYPIl5D4eXcSmW2LP3YDt",
      "include_colab_link": true
    },
    "kernelspec": {
      "name": "python3",
      "display_name": "Python 3"
    },
    "language_info": {
      "name": "python"
    }
  },
  "cells": [
    {
      "cell_type": "markdown",
      "metadata": {
        "id": "view-in-github",
        "colab_type": "text"
      },
      "source": [
        "<a href=\"https://colab.research.google.com/github/pranaysawant17/Ineuron-Assignment/blob/main/ON_Assignment_10_Python_Programing.ipynb\" target=\"_parent\"><img src=\"https://colab.research.google.com/assets/colab-badge.svg\" alt=\"Open In Colab\"/></a>"
      ]
    },
    {
      "cell_type": "markdown",
      "source": [
        "1.\tWrite a Python program to find sum of elements in list?"
      ],
      "metadata": {
        "id": "0cX0JQw5zBuY"
      }
    },
    {
      "cell_type": "code",
      "execution_count": 33,
      "metadata": {
        "colab": {
          "base_uri": "https://localhost:8080/"
        },
        "id": "jGAbX3OsSzUe",
        "outputId": "8b254199-c768-4607-881b-9abeacf31700"
      },
      "outputs": [
        {
          "output_type": "execute_result",
          "data": {
            "text/plain": [
              "('Sum of elements:', 43)"
            ]
          },
          "metadata": {},
          "execution_count": 33
        }
      ],
      "source": [
        "def ele_sum(a):\n",
        "  sum=0\n",
        "  for i in a:\n",
        "    sum+=i\n",
        "  return \"Sum of elements:\" ,sum\n",
        "\n",
        "ele_sum([1,8,9,12,13])\n"
      ]
    },
    {
      "cell_type": "markdown",
      "source": [
        "2.\tWrite a Python program to  Multiply all numbers in the list?"
      ],
      "metadata": {
        "id": "oR4X-YSezfFm"
      }
    },
    {
      "cell_type": "code",
      "source": [
        "def mul_list(a,b):\n",
        "  # Here a is for list and b is for multiplication number\n",
        "  return[i*b for i in a]\n",
        "\n",
        "\n",
        "mul_list([1,8,9,12,13],2)"
      ],
      "metadata": {
        "colab": {
          "base_uri": "https://localhost:8080/"
        },
        "id": "cnxitaH4T-ji",
        "outputId": "e7a021f7-8b1f-42c9-a71a-74e7e83457d8"
      },
      "execution_count": 34,
      "outputs": [
        {
          "output_type": "execute_result",
          "data": {
            "text/plain": [
              "[2, 16, 18, 24, 26]"
            ]
          },
          "metadata": {},
          "execution_count": 34
        }
      ]
    },
    {
      "cell_type": "markdown",
      "source": [
        "3.\tWrite a Python program to find smallest number in a list?"
      ],
      "metadata": {
        "id": "uz26sobYzh7w"
      }
    },
    {
      "cell_type": "code",
      "source": [
        "a = [1,8,5,9,7]\n",
        "\n",
        "print(\"Smallest number: \", min(a))"
      ],
      "metadata": {
        "colab": {
          "base_uri": "https://localhost:8080/"
        },
        "id": "GFFEH3qKZAEF",
        "outputId": "e3e35608-463c-49c9-bedd-675777b62272"
      },
      "execution_count": 35,
      "outputs": [
        {
          "output_type": "stream",
          "name": "stdout",
          "text": [
            "Smallest number:  1\n"
          ]
        }
      ]
    },
    {
      "cell_type": "markdown",
      "source": [
        "4.\tWrite a Python program to find largest number in a list?"
      ],
      "metadata": {
        "id": "aKUnch9Kzk-K"
      }
    },
    {
      "cell_type": "code",
      "source": [
        "a = [1,8,5,9,7]\n",
        "\n",
        "print(\"Largest number: \", max(a))"
      ],
      "metadata": {
        "colab": {
          "base_uri": "https://localhost:8080/"
        },
        "id": "-b3qCAUvbKmS",
        "outputId": "9115d8ef-26ab-4cc9-ebe6-037ffe291e20"
      },
      "execution_count": 36,
      "outputs": [
        {
          "output_type": "stream",
          "name": "stdout",
          "text": [
            "Largest number:  9\n"
          ]
        }
      ]
    },
    {
      "cell_type": "markdown",
      "source": [
        "5.\tWrite a Python program to find second largest number in a list?"
      ],
      "metadata": {
        "id": "QO3EpafYznqy"
      }
    },
    {
      "cell_type": "code",
      "source": [
        "a = [1,8,5,9,7]\n",
        "\n",
        "sort_lst=sorted(list(set(a)))\n",
        "\n",
        "print(\" Second Largest number: \", sort_lst[-2])"
      ],
      "metadata": {
        "colab": {
          "base_uri": "https://localhost:8080/"
        },
        "id": "2oqToPXabTiY",
        "outputId": "7a6eadb3-88a0-4663-9151-2d08dd09354f"
      },
      "execution_count": 37,
      "outputs": [
        {
          "output_type": "stream",
          "name": "stdout",
          "text": [
            " Second Largest number:  8\n"
          ]
        }
      ]
    },
    {
      "cell_type": "markdown",
      "source": [
        "6.\tWrite a Python program to find N largest elements from a list?"
      ],
      "metadata": {
        "id": "Ceu9NwtFzqel"
      }
    },
    {
      "cell_type": "code",
      "source": [
        "a = [1,8,5,9,7]\n",
        "n_num = int(input(\"Enter the Nth value you want: \"))\n",
        "\n",
        "sort_lst=sorted(list(set(a)))\n",
        "if n_num < len(a):\n",
        "  print(\" {0} th Largest number:{1} \". format(n_num,sort_lst[-n_num]))\n",
        "else:\n",
        "   print(\" Number out of index\")\n"
      ],
      "metadata": {
        "colab": {
          "base_uri": "https://localhost:8080/"
        },
        "id": "e7cUTRDabwZu",
        "outputId": "423e3c67-868a-482c-e283-08e1e715ceb4"
      },
      "execution_count": 38,
      "outputs": [
        {
          "output_type": "stream",
          "name": "stdout",
          "text": [
            "Enter the Nth value you want: 3\n",
            " 3 th Largest number:7 \n"
          ]
        }
      ]
    },
    {
      "cell_type": "markdown",
      "source": [
        "7.\tWrite a Python program to print even numbers in a list?"
      ],
      "metadata": {
        "id": "af0C53NKztP2"
      }
    },
    {
      "cell_type": "code",
      "source": [
        "def even_num(a):\n",
        "  return [x for x in a if x%2 ==0]\n",
        "\n",
        "a = [1,8,5,9,7]\n",
        "even_num(a)"
      ],
      "metadata": {
        "colab": {
          "base_uri": "https://localhost:8080/"
        },
        "id": "V41DY0fvc49X",
        "outputId": "66ce9905-f7fd-4d5e-afb9-d35b15797b98"
      },
      "execution_count": 39,
      "outputs": [
        {
          "output_type": "execute_result",
          "data": {
            "text/plain": [
              "[8]"
            ]
          },
          "metadata": {},
          "execution_count": 39
        }
      ]
    },
    {
      "cell_type": "markdown",
      "source": [
        "8.\tWrite a Python program to print odd numbers in a List?"
      ],
      "metadata": {
        "id": "UahFEqwC0O2D"
      }
    },
    {
      "cell_type": "code",
      "source": [
        "def neg_num(a):\n",
        "  return [x for x in a if x%2 !=0]\n",
        "\n",
        "a = [1,8,5,9,7]\n",
        "neg_num(a)"
      ],
      "metadata": {
        "colab": {
          "base_uri": "https://localhost:8080/"
        },
        "id": "S1VBXmNId2Pt",
        "outputId": "242bcbfd-d9a1-4f95-a275-f5d54b249b81"
      },
      "execution_count": 40,
      "outputs": [
        {
          "output_type": "execute_result",
          "data": {
            "text/plain": [
              "[1, 5, 9, 7]"
            ]
          },
          "metadata": {},
          "execution_count": 40
        }
      ]
    },
    {
      "cell_type": "markdown",
      "source": [
        "9.\tWrite a Python program to Remove empty List from List?"
      ],
      "metadata": {
        "id": "_bb06Z7D0SbB"
      }
    },
    {
      "cell_type": "code",
      "source": [
        "def remove_empty(a):\n",
        "  lst=[]\n",
        "  for i in a:\n",
        "      if len(i) != 0:\n",
        "          lst.append(i)   \n",
        "  return lst\n",
        "remove_empty([[1,2],[],[],[4,5,6]])"
      ],
      "metadata": {
        "colab": {
          "base_uri": "https://localhost:8080/"
        },
        "id": "4fWCrlrUeApq",
        "outputId": "1c734b44-fa8b-40c5-a7fd-c8d8d1d687c4"
      },
      "execution_count": 41,
      "outputs": [
        {
          "output_type": "execute_result",
          "data": {
            "text/plain": [
              "[[1, 2], [4, 5, 6]]"
            ]
          },
          "metadata": {},
          "execution_count": 41
        }
      ]
    },
    {
      "cell_type": "markdown",
      "source": [
        "10.\tWrite a Python program to Cloning or Copying a list?"
      ],
      "metadata": {
        "id": "JcGg8vos0U9o"
      }
    },
    {
      "cell_type": "code",
      "source": [
        "def clone_list(a):\n",
        "  lst_clone = list(a)\n",
        "  return lst_clone\n",
        "\n",
        "l1= ['a', 1,8 ,9,'b']\n",
        "l2=clone_list(l1)\n",
        "print(l2)"
      ],
      "metadata": {
        "colab": {
          "base_uri": "https://localhost:8080/"
        },
        "id": "Yh36BOG_gLQD",
        "outputId": "0e1b2630-939c-4616-f574-287622fd3c6b"
      },
      "execution_count": 42,
      "outputs": [
        {
          "output_type": "stream",
          "name": "stdout",
          "text": [
            "['a', 1, 8, 9, 'b']\n"
          ]
        }
      ]
    },
    {
      "cell_type": "markdown",
      "source": [
        "11.\tWrite a Python program to Count occurrences of an element in a list?"
      ],
      "metadata": {
        "id": "pY6BEBH1yLiM"
      }
    },
    {
      "cell_type": "code",
      "source": [
        "def count_occ(a):\n",
        "  counter={}\n",
        "  for i in a:\n",
        "    if i in counter:\n",
        "      counter[i]+=1\n",
        "    else:\n",
        "      counter[i]=1\n",
        "  return counter"
      ],
      "metadata": {
        "id": "tVIkXyDQq2o2"
      },
      "execution_count": 43,
      "outputs": []
    },
    {
      "cell_type": "code",
      "source": [
        "print(count_occ(\"This is not a story\"))\n",
        "print(count_occ(\"Dream Big Work harder\"))"
      ],
      "metadata": {
        "colab": {
          "base_uri": "https://localhost:8080/"
        },
        "id": "Q4ELyAt_yrKg",
        "outputId": "bad46446-4036-445a-d2e6-0f58213ce2ab"
      },
      "execution_count": 44,
      "outputs": [
        {
          "output_type": "stream",
          "name": "stdout",
          "text": [
            "{'T': 1, 'h': 1, 'i': 2, 's': 3, ' ': 4, 'n': 1, 'o': 2, 't': 2, 'a': 1, 'r': 1, 'y': 1}\n",
            "{'D': 1, 'r': 4, 'e': 2, 'a': 2, 'm': 1, ' ': 3, 'B': 1, 'i': 1, 'g': 1, 'W': 1, 'o': 1, 'k': 1, 'h': 1, 'd': 1}\n"
          ]
        }
      ]
    }
  ]
}