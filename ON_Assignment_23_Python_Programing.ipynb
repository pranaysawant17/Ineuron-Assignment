{
  "nbformat": 4,
  "nbformat_minor": 0,
  "metadata": {
    "colab": {
      "name": "ON Assignment 23: Python Programing.ipynb",
      "provenance": [],
      "collapsed_sections": [],
      "authorship_tag": "ABX9TyPpTsIuee64GN4l0BUBhMyT",
      "include_colab_link": true
    },
    "kernelspec": {
      "name": "python3",
      "display_name": "Python 3"
    },
    "language_info": {
      "name": "python"
    }
  },
  "cells": [
    {
      "cell_type": "markdown",
      "metadata": {
        "id": "view-in-github",
        "colab_type": "text"
      },
      "source": [
        "<a href=\"https://colab.research.google.com/github/pranaysawant17/Ineuron-Assignment/blob/main/ON_Assignment_23_Python_Programing.ipynb\" target=\"_parent\"><img src=\"https://colab.research.google.com/assets/colab-badge.svg\" alt=\"Open In Colab\"/></a>"
      ]
    },
    {
      "cell_type": "markdown",
      "source": [
        "Question 1\n",
        "Create a function that takes a number as an argument and returns True or False depending on whether the number is symmetrical or not. A number is symmetrical when it is the same as its reverse.\n"
      ],
      "metadata": {
        "id": "TY_rjVskBzUM"
      }
    },
    {
      "cell_type": "code",
      "execution_count": 11,
      "metadata": {
        "id": "VnGEJrzn_BAJ"
      },
      "outputs": [],
      "source": [
        "def is_symmetrical (a):\n",
        "\n",
        "    return str(a) == str(a)[::-1]"
      ]
    },
    {
      "cell_type": "code",
      "source": [
        "print(is_symmetrical(7227))\n",
        "\n",
        "print(is_symmetrical(12567))\n",
        "\n",
        "print(is_symmetrical(44444444))\n",
        "\n",
        "print(is_symmetrical(9939)) \n",
        "\n",
        "print(is_symmetrical(1112111)) \n"
      ],
      "metadata": {
        "colab": {
          "base_uri": "https://localhost:8080/"
        },
        "id": "NNhOMNTQCt1L",
        "outputId": "37d3a65d-4dd7-421e-f3dd-b67799a90314"
      },
      "execution_count": 12,
      "outputs": [
        {
          "output_type": "stream",
          "name": "stdout",
          "text": [
            "True\n",
            "False\n",
            "True\n",
            "False\n",
            "True\n"
          ]
        }
      ]
    },
    {
      "cell_type": "markdown",
      "source": [
        "Question 2\n",
        "Given a string of numbers separated by a comma and space, return the product of the numbers.\n"
      ],
      "metadata": {
        "id": "kRhtA2OxGvt5"
      }
    },
    {
      "cell_type": "code",
      "source": [
        "def multiply_nums(a):\n",
        "  mul=1\n",
        "  for i in a.split(','):\n",
        "    mul*=int(i)\n",
        "  return mul"
      ],
      "metadata": {
        "id": "jPpzH0ReDRxK"
      },
      "execution_count": 15,
      "outputs": []
    },
    {
      "cell_type": "code",
      "source": [
        "print(multiply_nums(\"2, 3\"))\n",
        "print(multiply_nums(\"1, 2, 3, 4\"))\n",
        "print(multiply_nums(\"54, 75, 453, 0\"))\n",
        "print(multiply_nums(\"10, -2\"))\n"
      ],
      "metadata": {
        "colab": {
          "base_uri": "https://localhost:8080/"
        },
        "id": "89Yj_QecOh77",
        "outputId": "6eb9eb2f-6e7d-46cd-e467-874cb3811c31"
      },
      "execution_count": 17,
      "outputs": [
        {
          "output_type": "stream",
          "name": "stdout",
          "text": [
            "6\n",
            "24\n",
            "0\n",
            "-20\n"
          ]
        }
      ]
    },
    {
      "cell_type": "markdown",
      "source": [
        "Question 3\n",
        "Create a function that squares every digit of a number.\n"
      ],
      "metadata": {
        "id": "Y2YNRBIWPx6h"
      }
    },
    {
      "cell_type": "code",
      "source": [
        "def square_digits(a):\n",
        "  sum=\" \"\n",
        "  for i in str(a):\n",
        "    sum+= str(int(i)**2)\n",
        "  return int(sum)\n"
      ],
      "metadata": {
        "id": "bdQewGhDOjk9"
      },
      "execution_count": 21,
      "outputs": []
    },
    {
      "cell_type": "code",
      "source": [
        "print(square_digits(9119))\n",
        "print(square_digits(2483))\n",
        "print(square_digits(3212))"
      ],
      "metadata": {
        "colab": {
          "base_uri": "https://localhost:8080/"
        },
        "id": "UoIkGEzzQy6a",
        "outputId": "a15a808f-b663-485f-d2ff-9656eb55b08c"
      },
      "execution_count": 23,
      "outputs": [
        {
          "output_type": "stream",
          "name": "stdout",
          "text": [
            "811181\n",
            "416649\n",
            "9414\n"
          ]
        }
      ]
    },
    {
      "cell_type": "markdown",
      "source": [
        "Question 4\n",
        "Create a function that sorts a list and removes all duplicate items from it.\n"
      ],
      "metadata": {
        "id": "4l7ibjrbSogl"
      }
    },
    {
      "cell_type": "code",
      "source": [
        "def setify(a):\n",
        "  return sorted(list({i for i in a}))"
      ],
      "metadata": {
        "id": "pI1k_1g7Q0pe"
      },
      "execution_count": 32,
      "outputs": []
    },
    {
      "cell_type": "code",
      "source": [
        "print(setify([1, 3, 3, 5, 5]))\n",
        "print(setify([4, 4, 4, 4]))\n",
        "print(setify([5, 7, 8, 9, 10, 15]))\n",
        "print(setify([3, 3, 3, 2, 1]))\n"
      ],
      "metadata": {
        "colab": {
          "base_uri": "https://localhost:8080/"
        },
        "id": "pPmrWpWST-9C",
        "outputId": "1815c4be-6a69-41f5-edd4-f72fd9214c70"
      },
      "execution_count": 34,
      "outputs": [
        {
          "output_type": "stream",
          "name": "stdout",
          "text": [
            "[1, 3, 5]\n",
            "[4]\n",
            "[5, 7, 8, 9, 10, 15]\n",
            "[1, 2, 3]\n"
          ]
        }
      ]
    },
    {
      "cell_type": "markdown",
      "source": [
        "Question 5\n",
        "Create a function that returns the mean of all digits.\n"
      ],
      "metadata": {
        "id": "nItxa_p0Wlmn"
      }
    },
    {
      "cell_type": "code",
      "source": [
        "def mean(a):\n",
        "  sum= 0\n",
        "  count = 0\n",
        "  for i in str(a):\n",
        "    sum+= int(i)\n",
        "    count+=1\n",
        "  return round(sum/count)"
      ],
      "metadata": {
        "id": "iMWf35QMUFxX"
      },
      "execution_count": 35,
      "outputs": []
    },
    {
      "cell_type": "code",
      "source": [
        "print(mean(42))\n",
        "\n",
        "print(mean(12345))\n",
        "\n",
        "print(mean(666))\n",
        "\n"
      ],
      "metadata": {
        "colab": {
          "base_uri": "https://localhost:8080/"
        },
        "id": "BheMl55UX395",
        "outputId": "9aa470d7-5146-46f1-b209-c67f501987f4"
      },
      "execution_count": 39,
      "outputs": [
        {
          "output_type": "stream",
          "name": "stdout",
          "text": [
            "3\n",
            "3\n",
            "6\n"
          ]
        }
      ]
    }
  ]
}