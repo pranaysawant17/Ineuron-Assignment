{
  "nbformat": 4,
  "nbformat_minor": 0,
  "metadata": {
    "colab": {
      "name": "ON Assignment 15: Python Programing.ipynb",
      "provenance": [],
      "collapsed_sections": [],
      "authorship_tag": "ABX9TyNg8XehCm+Oji4H4oeuAgvO",
      "include_colab_link": true
    },
    "kernelspec": {
      "name": "python3",
      "display_name": "Python 3"
    },
    "language_info": {
      "name": "python"
    }
  },
  "cells": [
    {
      "cell_type": "markdown",
      "metadata": {
        "id": "view-in-github",
        "colab_type": "text"
      },
      "source": [
        "<a href=\"https://colab.research.google.com/github/pranaysawant17/Ineuron-Assignment/blob/main/ON_Assignment_15_Python_Programing.ipynb\" target=\"_parent\"><img src=\"https://colab.research.google.com/assets/colab-badge.svg\" alt=\"Open In Colab\"/></a>"
      ]
    },
    {
      "cell_type": "markdown",
      "source": [
        "Question 1:\n",
        "Please write a program using generator to print the numbers which can be divisible by 5 and 7 between 0 and n in comma separated form while n is input by console.\n"
      ],
      "metadata": {
        "id": "Cbf_Ej6P0fow"
      }
    },
    {
      "cell_type": "code",
      "source": [
        "def gen_divi(n):\n",
        "  for i in range (n):\n",
        "    if i%5== 0 and i%7==0:\n",
        "      yield i\n",
        "\n",
        "num = gen_divi(100)\n",
        "st=[]\n",
        "\n",
        "for i in list(num):\n",
        "  \n",
        " print(i, end=\",\")\n"
      ],
      "metadata": {
        "colab": {
          "base_uri": "https://localhost:8080/"
        },
        "id": "Uq53Rora096V",
        "outputId": "279505a2-de97-4517-db02-d8d2cd6c3b01"
      },
      "execution_count": 4,
      "outputs": [
        {
          "output_type": "stream",
          "name": "stdout",
          "text": [
            "0,35,70,"
          ]
        }
      ]
    },
    {
      "cell_type": "markdown",
      "source": [
        "Please write a program using generator to print the even numbers between 0 and n in comma separated form while n is input by console."
      ],
      "metadata": {
        "id": "pHr63KDI5djg"
      }
    },
    {
      "cell_type": "code",
      "source": [
        "def gen_even(n):\n",
        "  for i in range (n+1):\n",
        "    if i%2== 0:\n",
        "      yield i\n",
        "\n",
        "eve = gen_even(10)\n",
        "st=[]\n",
        "\n",
        "for i in list(eve):\n",
        "  \n",
        " print(i, end=\",\")"
      ],
      "metadata": {
        "colab": {
          "base_uri": "https://localhost:8080/"
        },
        "id": "V29FJtY_3DB0",
        "outputId": "7ea55d1a-fe62-464a-9ff9-fd4b60ef2259"
      },
      "execution_count": 8,
      "outputs": [
        {
          "output_type": "stream",
          "name": "stdout",
          "text": [
            "0,2,4,6,8,10,"
          ]
        }
      ]
    },
    {
      "cell_type": "markdown",
      "source": [
        "Question 3:\n",
        "The Fibonacci Sequence is computed based on the following formula:\n",
        "f(n)=0 if n=0\n",
        "f(n)=1 if n=1\n",
        "f(n)=f(n-1)+f(n-2) if n>1\n",
        "Please write a program using list comprehension to print the Fibonacci Sequence in comma separated form with a given n input by console.\n"
      ],
      "metadata": {
        "id": "uyus_l3u6Dvc"
      }
    },
    {
      "cell_type": "code",
      "source": [
        "def fib(n):\n",
        "  x,y,sum = 0,1,0\n",
        "  if n == 0:\n",
        "    return 0\n",
        "  elif n == 1:\n",
        "    return 1\n",
        "  else:\n",
        "    return fib(n-1)+fib(n-2)\n",
        "\n",
        "n = int(input(\"Enter number: \"))\n",
        "\n",
        "print([fib(i) for i in range(n+1)])\n"
      ],
      "metadata": {
        "colab": {
          "base_uri": "https://localhost:8080/"
        },
        "id": "-kkVVjwy52it",
        "outputId": "1dd1e9cb-9f70-404b-ee42-e856f48f3b4f"
      },
      "execution_count": 17,
      "outputs": [
        {
          "output_type": "stream",
          "name": "stdout",
          "text": [
            "Enter number: 7\n",
            "[0, 1, 1, 2, 3, 5, 8, 13]\n"
          ]
        }
      ]
    },
    {
      "cell_type": "markdown",
      "source": [
        "Assuming that we have some email addresses in the \"username@companyname.com\" format, please write program to print the user name of a given email address. Both user names and company names are composed of letters only."
      ],
      "metadata": {
        "id": "VwSiTG5U82Tz"
      }
    },
    {
      "cell_type": "code",
      "source": [
        "a = input(\"Enter email id: \")\n",
        "\n",
        "print(\"Username is: \",(a.split(\"@\"))[0])"
      ],
      "metadata": {
        "colab": {
          "base_uri": "https://localhost:8080/"
        },
        "id": "14SZrw7K7ZMt",
        "outputId": "bad7250c-955d-4f19-e108-bd80e458008e"
      },
      "execution_count": 23,
      "outputs": [
        {
          "output_type": "stream",
          "name": "stdout",
          "text": [
            "Enter email id: john@google.com\n",
            "Username is:  john\n"
          ]
        }
      ]
    },
    {
      "cell_type": "markdown",
      "source": [
        "Question 5:\n",
        "Define a class named Shape and its subclass Square. The Square class has an init function which takes a length as argument. Both classes have a area function which can print the area of the shape where Shape's area is 0 by default.\n"
      ],
      "metadata": {
        "id": "Kr64Kg4W-NZ2"
      }
    },
    {
      "cell_type": "code",
      "source": [
        "class shape():\n",
        "  def __init__(self):\n",
        "    pass\n",
        "  def area (self):\n",
        "    return 0\n",
        "class square(shape):\n",
        "  def __init__(self,length):\n",
        "    self.length = length\n",
        "  def area (self):\n",
        "    return self.length * self.length\n"
      ],
      "metadata": {
        "id": "hyJxYIgj9h52"
      },
      "execution_count": 33,
      "outputs": []
    },
    {
      "cell_type": "code",
      "source": [
        "a = shape()\n",
        "print(a.area())\n",
        "b = square(5)\n",
        "print(b.area())"
      ],
      "metadata": {
        "colab": {
          "base_uri": "https://localhost:8080/"
        },
        "id": "GqsjGOQW-oF9",
        "outputId": "d2d8ee2d-ed91-49bb-e963-e749c517987d"
      },
      "execution_count": 37,
      "outputs": [
        {
          "output_type": "stream",
          "name": "stdout",
          "text": [
            "0\n",
            "25\n"
          ]
        }
      ]
    },
    {
      "cell_type": "code",
      "source": [
        ""
      ],
      "metadata": {
        "id": "XrE5Hc_t--Q1"
      },
      "execution_count": null,
      "outputs": []
    }
  ]
}