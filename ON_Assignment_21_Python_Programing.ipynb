{
  "nbformat": 4,
  "nbformat_minor": 0,
  "metadata": {
    "colab": {
      "name": "ON Assignment 21: Python Programing.ipynb",
      "provenance": [],
      "authorship_tag": "ABX9TyNiiO9yWsSsMAUjFUrM/sTc",
      "include_colab_link": true
    },
    "kernelspec": {
      "name": "python3",
      "display_name": "Python 3"
    },
    "language_info": {
      "name": "python"
    }
  },
  "cells": [
    {
      "cell_type": "markdown",
      "metadata": {
        "id": "view-in-github",
        "colab_type": "text"
      },
      "source": [
        "<a href=\"https://colab.research.google.com/github/pranaysawant17/Ineuron-Assignment/blob/main/ON_Assignment_21_Python_Programing.ipynb\" target=\"_parent\"><img src=\"https://colab.research.google.com/assets/colab-badge.svg\" alt=\"Open In Colab\"/></a>"
      ]
    },
    {
      "cell_type": "markdown",
      "source": [
        "Question1\n",
        "Write a function that takes a list and a number as arguments. Add the number to the end of the list, then remove the first element of the list. The function should then return the updated list.\n"
      ],
      "metadata": {
        "id": "SnckyciU7qGT"
      }
    },
    {
      "cell_type": "code",
      "execution_count": 5,
      "metadata": {
        "id": "N3WKyF2K7aTL"
      },
      "outputs": [],
      "source": [
        "def next_in_line(lst,num):\n",
        "  if len(lst)>0:\n",
        "    lst.pop(0)\n",
        "    lst.append(num)\n",
        "    return lst\n",
        "  else:\n",
        "    return \"No list has been selected\"\n",
        "  "
      ]
    },
    {
      "cell_type": "code",
      "source": [
        "print(next_in_line([5, 6, 7, 8, 9], 1))\n",
        "print(next_in_line([7, 6, 3, 23, 17], 10))\n",
        "print(next_in_line([1, 10, 20, 42 ], 6))\n",
        "print(next_in_line([], 6))"
      ],
      "metadata": {
        "colab": {
          "base_uri": "https://localhost:8080/"
        },
        "id": "8YcL7js28nlW",
        "outputId": "e8193259-0f66-4d23-fa82-e79132199d3b"
      },
      "execution_count": 6,
      "outputs": [
        {
          "output_type": "stream",
          "name": "stdout",
          "text": [
            "[6, 7, 8, 9, 1]\n",
            "[6, 3, 23, 17, 10]\n",
            "[10, 20, 42, 6]\n",
            "No list has been selected\n"
          ]
        }
      ]
    },
    {
      "cell_type": "markdown",
      "source": [
        "Question2\n",
        "Create the function that takes a list of dictionaries and returns the sum of people's budgets.\n"
      ],
      "metadata": {
        "id": "fePYvkK39RFS"
      }
    },
    {
      "cell_type": "code",
      "source": [
        "def get_budgets(a):\n",
        "  sum = 0\n",
        "  for i in a:\n",
        "    sum+= i[\"budget\"]\n",
        "  return sum"
      ],
      "metadata": {
        "id": "7UOBMHEj9V3r"
      },
      "execution_count": 8,
      "outputs": []
    },
    {
      "cell_type": "code",
      "source": [
        "print(get_budgets([\n",
        "  { \"name\": \"John\", \"age\": 21, \"budget\": 23000 },\n",
        "  { \"name\": \"Steve\",  \"age\": 32, \"budget\": 40000 },\n",
        "  { \"name\": \"Martin\",  \"age\": 16, \"budget\": 2700 }\n",
        "]))\n",
        "\n",
        "print(get_budgets([\n",
        "  { \"name\": \"John\",  \"age\": 21, \"budget\": 29000 },\n",
        "  { \"name\": \"Steve\",  \"age\": 32, \"budget\": 32000 },\n",
        "  { \"name\": \"Martin\",  \"age\": 16, \"budget\": 1600 }\n",
        "]))\n",
        "\n"
      ],
      "metadata": {
        "colab": {
          "base_uri": "https://localhost:8080/"
        },
        "id": "VayXXpVO90fd",
        "outputId": "67094782-4a7b-4145-ff87-beb6df251ee1"
      },
      "execution_count": 10,
      "outputs": [
        {
          "output_type": "stream",
          "name": "stdout",
          "text": [
            "65700\n",
            "62600\n"
          ]
        }
      ]
    },
    {
      "cell_type": "markdown",
      "source": [
        "Question3\n",
        "Create a function that takes a string and returns a string with its letters in alphabetical order.\n"
      ],
      "metadata": {
        "id": "Xi8eoP66-E5u"
      }
    },
    {
      "cell_type": "code",
      "source": [
        "def alphabet_soup(a):\n",
        "  return ''.join(sorted([i for i in a]))"
      ],
      "metadata": {
        "id": "2WgNW41X-Edk"
      },
      "execution_count": 11,
      "outputs": []
    },
    {
      "cell_type": "code",
      "source": [
        "print(alphabet_soup(\"hello\")) \n",
        "print(alphabet_soup(\"edabit\"))\n",
        "print(alphabet_soup(\"hacker\"))\n",
        "print(alphabet_soup(\"geek\"))\n",
        "print(alphabet_soup(\"javascript\"))"
      ],
      "metadata": {
        "colab": {
          "base_uri": "https://localhost:8080/"
        },
        "id": "zXUjE3Bo-EPx",
        "outputId": "24431c5c-1a6a-43d3-946b-d362fe06c23d"
      },
      "execution_count": 13,
      "outputs": [
        {
          "output_type": "stream",
          "name": "stdout",
          "text": [
            "ehllo\n",
            "abdeit\n",
            "acehkr\n",
            "eegk\n",
            "aacijprstv\n"
          ]
        }
      ]
    },
    {
      "cell_type": "markdown",
      "source": [
        "Question4\n",
        "Suppose that you invest $10,000 for 10 years at an interest rate of 6% compounded monthly. What will be the value of your investment at the end of the 10 year period?\n",
        "Create a function that accepts the principal p, the term in years t, the interest rate r, and the number of compounding periods per year n. The function returns the value at the end of term rounded to the nearest cent.\n"
      ],
      "metadata": {
        "id": "uU8E3FHG-uol"
      }
    },
    {
      "cell_type": "code",
      "source": [
        "def compound_interest(p,t,r,n):\n",
        "  return round(p*((1+r/n)**(n*t)),2)"
      ],
      "metadata": {
        "id": "Y7wSVDAz-X2Z"
      },
      "execution_count": 20,
      "outputs": []
    },
    {
      "cell_type": "code",
      "source": [
        "print(compound_interest(100, 1, 0.05, 1))\n",
        "print(compound_interest(3500, 15, 0.1, 4))\n",
        "print(compound_interest(100000, 20, 0.15, 365)) "
      ],
      "metadata": {
        "colab": {
          "base_uri": "https://localhost:8080/"
        },
        "id": "HqfcLnEf_u45",
        "outputId": "2153428e-2d9f-45ac-a3f9-c84b50f85cd4"
      },
      "execution_count": 21,
      "outputs": [
        {
          "output_type": "stream",
          "name": "stdout",
          "text": [
            "105.0\n",
            "15399.26\n",
            "2007316.26\n"
          ]
        }
      ]
    },
    {
      "cell_type": "markdown",
      "source": [
        "Question5\n",
        "Write a function that takes a list of elements and returns only the integers.\n"
      ],
      "metadata": {
        "id": "NKWu0PNUAG2Z"
      }
    },
    {
      "cell_type": "code",
      "source": [
        "def return_only_integer(a):\n",
        "  return [i for i in a if type(i)== int]"
      ],
      "metadata": {
        "id": "kZqWfm7gAJ1i"
      },
      "execution_count": 22,
      "outputs": []
    },
    {
      "cell_type": "code",
      "source": [
        "print(return_only_integer([9, 2, \"space\", \"car\", \"lion\", 16]))\n",
        "\n",
        "print(return_only_integer([\"hello\", 81, \"basketball\", 123, \"fox\"]))\n",
        "\n",
        "print(return_only_integer([10, \"121\", 56, 20, \"car\", 3, \"lion\"]))\n",
        "\n",
        "print(return_only_integer([\"String\",  True,  3.3,  1]))\n"
      ],
      "metadata": {
        "colab": {
          "base_uri": "https://localhost:8080/"
        },
        "id": "_Cn-BJbqAWBV",
        "outputId": "ee7b4064-3782-463d-f29e-44d0f8dc5686"
      },
      "execution_count": 23,
      "outputs": [
        {
          "output_type": "stream",
          "name": "stdout",
          "text": [
            "[9, 2, 16]\n",
            "[81, 123]\n",
            "[10, 56, 20, 3]\n",
            "[1]\n"
          ]
        }
      ]
    },
    {
      "cell_type": "code",
      "source": [
        ""
      ],
      "metadata": {
        "id": "g-uVg9WmAV87"
      },
      "execution_count": null,
      "outputs": []
    }
  ]
}