{
  "nbformat": 4,
  "nbformat_minor": 0,
  "metadata": {
    "colab": {
      "name": "ON Assignment 25 : Python Programing.ipynb",
      "provenance": [],
      "authorship_tag": "ABX9TyPrEkH6xEQSBh+7R49jt24s",
      "include_colab_link": true
    },
    "kernelspec": {
      "name": "python3",
      "display_name": "Python 3"
    },
    "language_info": {
      "name": "python"
    }
  },
  "cells": [
    {
      "cell_type": "markdown",
      "metadata": {
        "id": "view-in-github",
        "colab_type": "text"
      },
      "source": [
        "<a href=\"https://colab.research.google.com/github/pranaysawant17/Ineuron-Assignment/blob/main/ON_Assignment_25_Python_Programing.ipynb\" target=\"_parent\"><img src=\"https://colab.research.google.com/assets/colab-badge.svg\" alt=\"Open In Colab\"/></a>"
      ]
    },
    {
      "cell_type": "markdown",
      "source": [
        "Question1\n",
        "Create a function that takes three integer arguments (a, b, c) and returns the amount of integers which are of equal value.\n"
      ],
      "metadata": {
        "id": "Fn8Lt30Wruza"
      }
    },
    {
      "cell_type": "code",
      "execution_count": 19,
      "metadata": {
        "id": "30ZliZSJpiI1"
      },
      "outputs": [],
      "source": [
        "def equal (a,b,c):\n",
        "  \n",
        "  if a==b and b==c:\n",
        "    same = 3\n",
        "  elif a == b or a ==c or b==c:\n",
        "    same = 2\n",
        "  else:\n",
        "    same= 0\n",
        "  return same\n",
        "\n"
      ]
    },
    {
      "cell_type": "code",
      "source": [
        "print(equal(3, 4, 3))\n",
        "\n",
        "print(equal(1, 1, 1))\n",
        "\n",
        "print(equal(3, 4, 1))\n",
        "\n",
        "print(equal(1, 4, 4))\n"
      ],
      "metadata": {
        "colab": {
          "base_uri": "https://localhost:8080/"
        },
        "id": "LfCnowA5uJS9",
        "outputId": "f8684941-8199-489b-cd3a-153a7995ba28"
      },
      "execution_count": 20,
      "outputs": [
        {
          "output_type": "stream",
          "name": "stdout",
          "text": [
            "2\n",
            "3\n",
            "0\n",
            "2\n"
          ]
        }
      ]
    },
    {
      "cell_type": "markdown",
      "source": [
        "Question2\n",
        "Write a function that converts a dictionary into a list of keys-values tuples.\n"
      ],
      "metadata": {
        "id": "Ze5oIg7kufC8"
      }
    },
    {
      "cell_type": "code",
      "source": [
        "def dict_to_list(a):\n",
        "  return sorted(list(a.items()))\n"
      ],
      "metadata": {
        "id": "RtRHnEG2u5EC"
      },
      "execution_count": 21,
      "outputs": []
    },
    {
      "cell_type": "code",
      "source": [
        "print(dict_to_list({  \"D\": 1,  \"B\": 2,  \"C\": 3}))\n",
        "print(dict_to_list({  \"likes\": 2,  \"dislikes\": 3,  \"followers\": 10}))\n"
      ],
      "metadata": {
        "colab": {
          "base_uri": "https://localhost:8080/"
        },
        "id": "UdIsef33vKdd",
        "outputId": "78f54e3b-341a-4b1d-87ba-1a527983b7d8"
      },
      "execution_count": 22,
      "outputs": [
        {
          "output_type": "stream",
          "name": "stdout",
          "text": [
            "[('B', 2), ('C', 3), ('D', 1)]\n",
            "[('dislikes', 3), ('followers', 10), ('likes', 2)]\n"
          ]
        }
      ]
    },
    {
      "cell_type": "markdown",
      "source": [
        "Question3\n",
        "Write a function that creates a dictionary with each (key, value) pair being the (lower case, upper case) versions of a letter, respectively.\n"
      ],
      "metadata": {
        "id": "2uTz14ENuJJd"
      }
    },
    {
      "cell_type": "code",
      "source": [
        "def mapping(a):\n",
        "  return { i: i.upper() for i in a}"
      ],
      "metadata": {
        "id": "QvC10mspvrM2"
      },
      "execution_count": 23,
      "outputs": []
    },
    {
      "cell_type": "code",
      "source": [
        "print(mapping([\"p\", \"s\"]))\n",
        "print(mapping([\"a\", \"b\", \"c\"]))\n",
        "print(mapping([\"a\", \"v\", \"y\", \"z\"]))\n"
      ],
      "metadata": {
        "colab": {
          "base_uri": "https://localhost:8080/"
        },
        "id": "2WIHcozXv5YL",
        "outputId": "f1c8fc59-7a74-4f44-c948-8bbb9daa46a1"
      },
      "execution_count": 24,
      "outputs": [
        {
          "output_type": "stream",
          "name": "stdout",
          "text": [
            "{'p': 'P', 's': 'S'}\n",
            "{'a': 'A', 'b': 'B', 'c': 'C'}\n",
            "{'a': 'A', 'v': 'V', 'y': 'Y', 'z': 'Z'}\n"
          ]
        }
      ]
    },
    {
      "cell_type": "markdown",
      "source": [
        "Question4\n",
        "Write a function, that replaces all vowels in a string with a specified vowel.\n"
      ],
      "metadata": {
        "id": "jpqBdOsBwGYd"
      }
    },
    {
      "cell_type": "code",
      "source": [
        "def vow_replace(a,b):\n",
        "  s=''\n",
        "  for i in a:\n",
        "    if i in ['a', 'e', 'i', 'o','u']:\n",
        "      s+= b\n",
        "    else:\n",
        "      s+=i\n",
        "  return s"
      ],
      "metadata": {
        "id": "IULO_OSl0Pe0"
      },
      "execution_count": 25,
      "outputs": []
    },
    {
      "cell_type": "code",
      "source": [
        "print(vow_replace(\"apples and bananas\", \"u\"))\n",
        "print(vow_replace(\"cheese casserole\", \"o\"))\n",
        "print(vow_replace(\"stuffed jalapeno poppers\", \"e\") )\n"
      ],
      "metadata": {
        "colab": {
          "base_uri": "https://localhost:8080/"
        },
        "id": "k5pZwTBc03is",
        "outputId": "18b60ce3-ad90-4cdb-9be7-110ec6ac85c7"
      },
      "execution_count": 26,
      "outputs": [
        {
          "output_type": "stream",
          "name": "stdout",
          "text": [
            "upplus und bununus\n",
            "chooso cossorolo\n",
            "steffed jelepene peppers\n"
          ]
        }
      ]
    },
    {
      "cell_type": "markdown",
      "source": [
        "\n",
        "Question5\n",
        "Create a function that takes a string as input and capitalizes a letter if its ASCII code is even and returns its lower case version if its ASCII code is odd.\n"
      ],
      "metadata": {
        "id": "4r6hHv5z1o-i"
      }
    },
    {
      "cell_type": "code",
      "source": [
        "def ascii_capitalize(a):\n",
        "  s=''\n",
        "  for i in a:\n",
        "    if ord(i)%2 ==0:\n",
        "      s+=i.upper()\n",
        "    else:\n",
        "      s+=i.lower()\n",
        "  return s"
      ],
      "metadata": {
        "id": "jTtbumbP16I_"
      },
      "execution_count": 27,
      "outputs": []
    },
    {
      "cell_type": "code",
      "source": [
        "print(ascii_capitalize(\"to be or not to be!\"))\n",
        "print(ascii_capitalize(\"THE LITTLE MERMAID\"))\n",
        "print(ascii_capitalize(\"Oh what a beautiful morning.\"))\n"
      ],
      "metadata": {
        "colab": {
          "base_uri": "https://localhost:8080/"
        },
        "id": "94tD4T7K2ZxE",
        "outputId": "5e269353-b660-42c9-e05b-32c4b45d59c1"
      },
      "execution_count": 28,
      "outputs": [
        {
          "output_type": "stream",
          "name": "stdout",
          "text": [
            "To Be oR NoT To Be!\n",
            "THe LiTTLe meRmaiD\n",
            "oH wHaT a BeauTiFuL moRNiNg.\n"
          ]
        }
      ]
    }
  ]
}