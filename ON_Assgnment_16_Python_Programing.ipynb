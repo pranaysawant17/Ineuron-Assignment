{
  "nbformat": 4,
  "nbformat_minor": 0,
  "metadata": {
    "colab": {
      "name": "ON Assgnment 16: Python Programing.ipynb",
      "provenance": [],
      "collapsed_sections": [],
      "authorship_tag": "ABX9TyPISKF3HJGkNyA/fqkqLt7v",
      "include_colab_link": true
    },
    "kernelspec": {
      "name": "python3",
      "display_name": "Python 3"
    },
    "language_info": {
      "name": "python"
    }
  },
  "cells": [
    {
      "cell_type": "markdown",
      "metadata": {
        "id": "view-in-github",
        "colab_type": "text"
      },
      "source": [
        "<a href=\"https://colab.research.google.com/github/pranaysawant17/Ineuron-Assignment/blob/main/ON_Assgnment_16_Python_Programing.ipynb\" target=\"_parent\"><img src=\"https://colab.research.google.com/assets/colab-badge.svg\" alt=\"Open In Colab\"/></a>"
      ]
    },
    {
      "cell_type": "markdown",
      "source": [
        "Question1. Write a function that stutters a word as if someone is struggling to read it. The first two letters are repeated twice with an ellipsis ... and space after each, and then the word is pronounced with a question mark ?.\n",
        "Examples\n",
        "stutter(\"incredible\") ➞ \"in... in... incredible?\"\n",
        "\n",
        "stutter(\"enthusiastic\") ➞ \"en... en... enthusiastic?\"\n",
        "\n",
        "stutter(\"outstanding\") ➞ \"ou... ou... outstanding?\"\n"
      ],
      "metadata": {
        "id": "NDUwXmLQT3nq"
      }
    },
    {
      "cell_type": "code",
      "execution_count": 5,
      "metadata": {
        "id": "6o4Vz7VfWcUP"
      },
      "outputs": [],
      "source": [
        "def stutter(a):\n",
        "  return a[:2]+'...'+a[:2]+'...'+a+'?'"
      ]
    },
    {
      "cell_type": "code",
      "source": [
        "print(stutter(\"enthusiastic\"))\n",
        "print(stutter(\"outstanding\"))"
      ],
      "metadata": {
        "colab": {
          "base_uri": "https://localhost:8080/"
        },
        "id": "VFqGTLQ7USAO",
        "outputId": "c2521564-8a93-494b-e395-0770bf499fb4"
      },
      "execution_count": 6,
      "outputs": [
        {
          "output_type": "stream",
          "name": "stdout",
          "text": [
            "en...en...enthusiastic?\n",
            "ou...ou...outstanding?\n"
          ]
        }
      ]
    },
    {
      "cell_type": "markdown",
      "source": [
        "Question 2.Create a function that takes an angle in radians and returns the corresponding angle in degrees rounded to one decimal place.\n",
        "Examples\n",
        "radians_to_degrees(1) ➞ 57.3\n",
        "\n",
        "radians_to_degrees(20) ➞ 1145.9\n",
        "\n",
        "radians_to_degrees(50) ➞ 2864.8\n",
        "\n"
      ],
      "metadata": {
        "id": "RsPRFUkJUwcU"
      }
    },
    {
      "cell_type": "code",
      "source": [
        "import math\n",
        "def rad_deg(a):\n",
        "\n",
        "  return round(a*180/math.pi,1)\n"
      ],
      "metadata": {
        "id": "LwjZn7t6UfaQ"
      },
      "execution_count": 19,
      "outputs": []
    },
    {
      "cell_type": "code",
      "source": [
        "print(rad_deg(1))\n",
        "print(rad_deg(20))\n",
        "print(rad_deg(50))"
      ],
      "metadata": {
        "colab": {
          "base_uri": "https://localhost:8080/"
        },
        "id": "hrfrwzf0aIhd",
        "outputId": "684b37d3-3003-436d-c707-2e50b8d54785"
      },
      "execution_count": 20,
      "outputs": [
        {
          "output_type": "stream",
          "name": "stdout",
          "text": [
            "57.3\n",
            "1145.9\n",
            "2864.8\n"
          ]
        }
      ]
    },
    {
      "cell_type": "markdown",
      "source": [
        "Question 3. In this challenge, establish if a given integer num is a Curzon number. If 1 plus 2 elevated to num is exactly divisible by 1 plus 2 multiplied by num, then num is a Curzon number.\n",
        "Given a non-negative integer num, implement a function that returns True if num is a Curzon number, or False otherwise\n"
      ],
      "metadata": {
        "id": "PuZMm4iDbj-T"
      }
    },
    {
      "cell_type": "code",
      "source": [
        "def is_curzon(a):\n",
        "  if (2**a + 1 ) % (2*a+1) == 0:\n",
        "    return True\n",
        "  else:\n",
        "    return False\n"
      ],
      "metadata": {
        "id": "8zvnRI3XbPpE"
      },
      "execution_count": 21,
      "outputs": []
    },
    {
      "cell_type": "code",
      "source": [
        "print(is_curzon(5) )\n",
        "print(is_curzon(10) )\n",
        "print(is_curzon(14) )\n"
      ],
      "metadata": {
        "colab": {
          "base_uri": "https://localhost:8080/"
        },
        "id": "FGDD5-KpcLK-",
        "outputId": "8d4908fd-ddc2-4f5e-fdad-1b0d44fc585c"
      },
      "execution_count": 23,
      "outputs": [
        {
          "output_type": "stream",
          "name": "stdout",
          "text": [
            "True\n",
            "False\n",
            "True\n"
          ]
        }
      ]
    },
    {
      "cell_type": "markdown",
      "source": [
        "Question 4.Given the side length x find the area of a hexagon."
      ],
      "metadata": {
        "id": "5BkNbJ7KcZvO"
      }
    },
    {
      "cell_type": "code",
      "source": [
        "def area_of_hexagon (side):\n",
        "  return round(3*(3**0.5)*(side**2)/2,1)\n"
      ],
      "metadata": {
        "id": "YMktLmfdcag9"
      },
      "execution_count": 27,
      "outputs": []
    },
    {
      "cell_type": "code",
      "source": [
        "print(area_of_hexagon(1) )\n",
        "print(area_of_hexagon(2) )\n",
        "print(area_of_hexagon(3) )\n"
      ],
      "metadata": {
        "colab": {
          "base_uri": "https://localhost:8080/"
        },
        "id": "q2QKCqXXdsAL",
        "outputId": "47079663-4366-4606-c2da-1c2158d75733"
      },
      "execution_count": 28,
      "outputs": [
        {
          "output_type": "stream",
          "name": "stdout",
          "text": [
            "2.6\n",
            "10.4\n",
            "23.4\n"
          ]
        }
      ]
    },
    {
      "cell_type": "markdown",
      "source": [
        "Question 5. Create a function that returns a base-2 (binary) representation of a base-10 (decimal) string number. To convert is simple: ((2) means base-2 and (10) means base-10) 010101001(2) = 1 + 8 + 32 + 128.\n",
        "Going from right to left, the value of the most right bit is 1, now from that every bit to the left will be x2 the value, value of an 8 bit binary numbers are (256, 128, 64, 32, 16, 8, 4, 2, 1).\n"
      ],
      "metadata": {
        "id": "k75GRIPoeDl3"
      }
    },
    {
      "cell_type": "code",
      "source": [
        "def binary(num):\n",
        "  s=''\n",
        "  while num>0:\n",
        "    a= num%2\n",
        "    s+=str(a)\n",
        "    num= num//2\n",
        "  return s[::-1]\n",
        "    \n"
      ],
      "metadata": {
        "id": "eEy496UNd6-I"
      },
      "execution_count": 31,
      "outputs": []
    },
    {
      "cell_type": "code",
      "source": [
        "print(binary(1))\n",
        "print(binary(5))\n",
        "print(binary(10))\n"
      ],
      "metadata": {
        "colab": {
          "base_uri": "https://localhost:8080/"
        },
        "id": "6Sx86PhLfdOu",
        "outputId": "77ce048a-734c-49d5-abd8-25db41ffa2c2"
      },
      "execution_count": 32,
      "outputs": [
        {
          "output_type": "stream",
          "name": "stdout",
          "text": [
            "1\n",
            "101\n",
            "1010\n"
          ]
        }
      ]
    },
    {
      "cell_type": "code",
      "source": [
        ""
      ],
      "metadata": {
        "id": "PpanfFS3fumL"
      },
      "execution_count": null,
      "outputs": []
    }
  ]
}