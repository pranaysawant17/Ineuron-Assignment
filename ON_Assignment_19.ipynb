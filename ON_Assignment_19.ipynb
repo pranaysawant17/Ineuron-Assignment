{
  "nbformat": 4,
  "nbformat_minor": 0,
  "metadata": {
    "colab": {
      "name": "ON Assignment 19.ipynb",
      "provenance": [],
      "collapsed_sections": [],
      "authorship_tag": "ABX9TyMD6gJzJaEGW/juWLwZRRT2",
      "include_colab_link": true
    },
    "kernelspec": {
      "name": "python3",
      "display_name": "Python 3"
    },
    "language_info": {
      "name": "python"
    }
  },
  "cells": [
    {
      "cell_type": "markdown",
      "metadata": {
        "id": "view-in-github",
        "colab_type": "text"
      },
      "source": [
        "<a href=\"https://colab.research.google.com/github/pranaysawant17/Ineuron-Assignment/blob/main/ON_Assignment_19.ipynb\" target=\"_parent\"><img src=\"https://colab.research.google.com/assets/colab-badge.svg\" alt=\"Open In Colab\"/></a>"
      ]
    },
    {
      "cell_type": "markdown",
      "source": [
        "Question1\n",
        "Create a function that takes a string and returns a string in which each character is repeated once.\n"
      ],
      "metadata": {
        "id": "CN61Nw3P1tm8"
      }
    },
    {
      "cell_type": "code",
      "execution_count": 1,
      "metadata": {
        "id": "ltzbSmdC1rqA"
      },
      "outputs": [],
      "source": [
        "def double_char(a):\n",
        "  s=''\n",
        "  for i in a:\n",
        "    s+=i*2\n",
        "  return s"
      ]
    },
    {
      "cell_type": "code",
      "source": [
        "print(double_char(\"String\") )\n",
        "print(double_char(\"Hello World!\"))\n",
        "print(double_char(\"1234!_ \"))\n"
      ],
      "metadata": {
        "colab": {
          "base_uri": "https://localhost:8080/"
        },
        "id": "SBi-VM6O2tm8",
        "outputId": "e2b98f30-d297-488f-e800-d1a8cda709af"
      },
      "execution_count": 2,
      "outputs": [
        {
          "output_type": "stream",
          "name": "stdout",
          "text": [
            "SSttrriinngg\n",
            "HHeelllloo  WWoorrlldd!!\n",
            "11223344!!__  \n"
          ]
        }
      ]
    },
    {
      "cell_type": "markdown",
      "source": [
        "Question2\n",
        "Create a function that reverses a boolean value and returns the string \"boolean expected\" if another variable type is given.\n"
      ],
      "metadata": {
        "id": "FDk6QVRa29op"
      }
    },
    {
      "cell_type": "code",
      "source": [
        "def reverse(a):\n",
        "  if type(a)== bool:\n",
        "    if a== True:\n",
        "      return False\n",
        "    else:\n",
        "      return True\n",
        "  else:\n",
        "    return 'boolean expected'"
      ],
      "metadata": {
        "id": "g0kUW-ie3DiE"
      },
      "execution_count": 4,
      "outputs": []
    },
    {
      "cell_type": "code",
      "source": [
        "print(reverse(True))\n",
        "print(reverse(False))\n",
        "print(reverse(0))\n",
        "print(reverse(None))"
      ],
      "metadata": {
        "colab": {
          "base_uri": "https://localhost:8080/"
        },
        "id": "Yb-ufGSa4UAQ",
        "outputId": "2a6633e5-32e3-4e6d-c51a-840aaa207952"
      },
      "execution_count": 5,
      "outputs": [
        {
          "output_type": "stream",
          "name": "stdout",
          "text": [
            "False\n",
            "True\n",
            "boolean expected\n",
            "boolean expected\n"
          ]
        }
      ]
    },
    {
      "cell_type": "markdown",
      "source": [
        "Create a function that returns the thickness (in meters) of a piece of paper after folding it n number of times. The paper starts off with a thickness of 0.5mm."
      ],
      "metadata": {
        "id": "qhGt7BHk4ywX"
      }
    },
    {
      "cell_type": "code",
      "source": [
        "def num_layers(a):\n",
        "  c= 0.5 #in mm\n",
        "  return (2**(a)*c)/1000"
      ],
      "metadata": {
        "id": "BeF-PGry4oS5"
      },
      "execution_count": 12,
      "outputs": []
    },
    {
      "cell_type": "code",
      "source": [
        "print(num_layers(1))\n",
        "print(num_layers(4))\n",
        "print(num_layers(21))"
      ],
      "metadata": {
        "colab": {
          "base_uri": "https://localhost:8080/"
        },
        "id": "SSwPnDUp5OTE",
        "outputId": "4716695a-4b3c-4fe1-9e73-7097a6d98536"
      },
      "execution_count": 13,
      "outputs": [
        {
          "output_type": "stream",
          "name": "stdout",
          "text": [
            "0.001\n",
            "0.008\n",
            "1048.576\n"
          ]
        }
      ]
    },
    {
      "cell_type": "markdown",
      "source": [
        "Question4\n",
        "Create a function that takes a single string as argument and returns an ordered list containing the indices of all capital letters in the string.\n"
      ],
      "metadata": {
        "id": "h6lhi9mq765V"
      }
    },
    {
      "cell_type": "code",
      "source": [
        "def index_of_caps(a):\n",
        "  lst=[]\n",
        "  for i in a:\n",
        "    if i.isupper()== True:\n",
        "      lst.append(a.index(i))\n",
        "  return lst"
      ],
      "metadata": {
        "id": "a6fRVV8W7_dg"
      },
      "execution_count": 18,
      "outputs": []
    },
    {
      "cell_type": "code",
      "source": [
        "print(index_of_caps(\"eDaBiT\"))\n",
        "print(index_of_caps(\"eQuINoX\"))\n",
        "print(index_of_caps(\"determine\"))\n",
        "print(index_of_caps(\"STRIKE\"))\n",
        "print(index_of_caps(\"sUn\"))\n"
      ],
      "metadata": {
        "colab": {
          "base_uri": "https://localhost:8080/"
        },
        "id": "6YfvbRLs9Kcx",
        "outputId": "337eebe1-0877-4c4b-b8e6-1cac46bac603"
      },
      "execution_count": 19,
      "outputs": [
        {
          "output_type": "stream",
          "name": "stdout",
          "text": [
            "[1, 3, 5]\n",
            "[1, 3, 4, 6]\n",
            "[]\n",
            "[0, 1, 2, 3, 4, 5]\n",
            "[1]\n"
          ]
        }
      ]
    },
    {
      "cell_type": "markdown",
      "source": [
        "Question5\n",
        "Using list comprehensions, create a function that finds all even numbers from 1 to the given number.\n"
      ],
      "metadata": {
        "id": "7S6XpkJZ905V"
      }
    },
    {
      "cell_type": "code",
      "source": [
        "def find_even_nums(a):\n",
        "  return [i for i in range(1,a+1) if i%2 == 0]"
      ],
      "metadata": {
        "id": "h41ejksp9Mu1"
      },
      "execution_count": 20,
      "outputs": []
    },
    {
      "cell_type": "code",
      "source": [
        "print(find_even_nums(8))\n",
        "\n",
        "print(find_even_nums(4))\n",
        "\n",
        "print(find_even_nums(2))\n"
      ],
      "metadata": {
        "colab": {
          "base_uri": "https://localhost:8080/"
        },
        "id": "imKREMt8-IxL",
        "outputId": "3e299fff-dfe4-4d1c-8cf6-2cd1b59fa393"
      },
      "execution_count": 21,
      "outputs": [
        {
          "output_type": "stream",
          "name": "stdout",
          "text": [
            "[2, 4, 6, 8]\n",
            "[2, 4]\n",
            "[2]\n"
          ]
        }
      ]
    }
  ]
}