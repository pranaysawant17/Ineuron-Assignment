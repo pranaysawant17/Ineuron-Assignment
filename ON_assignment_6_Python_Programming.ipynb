{
  "nbformat": 4,
  "nbformat_minor": 0,
  "metadata": {
    "colab": {
      "name": "ON assignment 6: Python Programming.ipynb",
      "provenance": [],
      "collapsed_sections": [],
      "authorship_tag": "ABX9TyOj/qD9kotG6hocAYs3k+d4",
      "include_colab_link": true
    },
    "kernelspec": {
      "name": "python3",
      "display_name": "Python 3"
    },
    "language_info": {
      "name": "python"
    }
  },
  "cells": [
    {
      "cell_type": "markdown",
      "metadata": {
        "id": "view-in-github",
        "colab_type": "text"
      },
      "source": [
        "<a href=\"https://colab.research.google.com/github/pranaysawant17/Ineuron-Assignment/blob/main/ON_assignment_6_Python_Programming.ipynb\" target=\"_parent\"><img src=\"https://colab.research.google.com/assets/colab-badge.svg\" alt=\"Open In Colab\"/></a>"
      ]
    },
    {
      "cell_type": "markdown",
      "source": [
        "1.\tWrite a Python Program to Display Fibonacci Sequence Using Recursion?"
      ],
      "metadata": {
        "id": "ojF97voBwksn"
      }
    },
    {
      "cell_type": "code",
      "execution_count": 9,
      "metadata": {
        "colab": {
          "base_uri": "https://localhost:8080/"
        },
        "id": "e63cjG-ISf5b",
        "outputId": "6dae7cae-e05c-4ce3-bc99-f7547faf5f92"
      },
      "outputs": [
        {
          "output_type": "stream",
          "name": "stdout",
          "text": [
            "Enter last number of range: 10\n",
            "0\n",
            "1\n",
            "1\n",
            "2\n",
            "3\n",
            "5\n",
            "8\n",
            "13\n",
            "21\n",
            "34\n"
          ]
        }
      ],
      "source": [
        "def fib (n):\n",
        "  if n == 0:\n",
        "    return n\n",
        "  elif n== 1:\n",
        "    return n\n",
        "  else:\n",
        "    return fib(n-1)+fib(n-2)\n",
        "\n",
        "a = int(input (\"Enter last number of range: \"))\n",
        "\n",
        "for i in range(a):\n",
        "  print(fib(i))\n"
      ]
    },
    {
      "cell_type": "markdown",
      "source": [
        "2.\tWrite a Python Program to Find Factorial of Number Using Recursion?"
      ],
      "metadata": {
        "id": "rN-pSeuS0mM5"
      }
    },
    {
      "cell_type": "code",
      "source": [
        "def fact(n):\n",
        "  if n == 1:\n",
        "    return 1\n",
        "  else:\n",
        "   return n*fact(n-1)"
      ],
      "metadata": {
        "id": "Eh2lUqSsxJgI"
      },
      "execution_count": 16,
      "outputs": []
    },
    {
      "cell_type": "code",
      "source": [
        "fact(5)"
      ],
      "metadata": {
        "colab": {
          "base_uri": "https://localhost:8080/"
        },
        "id": "ZTK_clD00-Vr",
        "outputId": "15d30d81-cfda-48d1-aa40-56d11902fae5"
      },
      "execution_count": 17,
      "outputs": [
        {
          "output_type": "execute_result",
          "data": {
            "text/plain": [
              "120"
            ]
          },
          "metadata": {},
          "execution_count": 17
        }
      ]
    },
    {
      "cell_type": "markdown",
      "source": [
        "3.\tWrite a Python Program to calculate your Body Mass Index?"
      ],
      "metadata": {
        "id": "OW3mJhv-2YnW"
      }
    },
    {
      "cell_type": "code",
      "source": [
        "wt = float(input(\"Enter your weight in Kg: \"))\n",
        "ht = float(input(\"Enter your height in CM: \"))\n",
        "\n",
        "BMI = wt/((ht/100)**2)\n",
        "\n",
        "print (\"Your height is {0} and weight is {1}. BMI = {2}\". format(ht,wt,BMI))"
      ],
      "metadata": {
        "colab": {
          "base_uri": "https://localhost:8080/"
        },
        "id": "zo2mp97HxLXw",
        "outputId": "b7212728-24e0-4d2b-af18-c2729838a7b0"
      },
      "execution_count": 18,
      "outputs": [
        {
          "output_type": "stream",
          "name": "stdout",
          "text": [
            "Enter your weight in Kg: 75\n",
            "Enter your height in CM: 174\n",
            "Your height is 174.0 and weight is 75.0. BMI = 24.772096710265558\n"
          ]
        }
      ]
    },
    {
      "cell_type": "markdown",
      "source": [
        "4.\tWrite a Python Program to calculate the natural logarithm of any number?"
      ],
      "metadata": {
        "id": "hcI5HMzC5TRb"
      }
    },
    {
      "cell_type": "code",
      "source": [
        "import math\n",
        "n = float(input(\"Enter your number to find log: \"))\n",
        "\n",
        "print(\"Log of {0} is {1}\".format(n,math.log(n)))\n"
      ],
      "metadata": {
        "colab": {
          "base_uri": "https://localhost:8080/"
        },
        "id": "ntWb_C676FlI",
        "outputId": "7da9ab59-c43f-4759-dfbd-25072e4b279d"
      },
      "execution_count": 20,
      "outputs": [
        {
          "output_type": "stream",
          "name": "stdout",
          "text": [
            "Enter your number to find log: 12\n",
            "Log of 12.0 is 2.4849066497880004\n"
          ]
        }
      ]
    },
    {
      "cell_type": "markdown",
      "source": [
        "5.\tWrite a Python Program for cube sum of first n natural numbers?"
      ],
      "metadata": {
        "id": "eZwa0vAF6qha"
      }
    },
    {
      "cell_type": "code",
      "source": [
        "n = int(input(\"Enter last number of range:\"))\n",
        "\n",
        "sum=0\n",
        "for i in range(n+1):\n",
        "  sum+= i**3\n",
        "print(sum)\n"
      ],
      "metadata": {
        "colab": {
          "base_uri": "https://localhost:8080/"
        },
        "id": "Iq4QMwU36IBx",
        "outputId": "e4d6bdb4-ad4e-4423-89a4-c9cf23ebd490"
      },
      "execution_count": 22,
      "outputs": [
        {
          "output_type": "stream",
          "name": "stdout",
          "text": [
            "Enter last number of range:5\n",
            "225\n"
          ]
        }
      ]
    }
  ]
}