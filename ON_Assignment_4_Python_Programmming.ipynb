{
  "nbformat": 4,
  "nbformat_minor": 0,
  "metadata": {
    "colab": {
      "name": "ON Assignment 4: Python Programmming.ipynb",
      "provenance": [],
      "collapsed_sections": [],
      "authorship_tag": "ABX9TyPJxP0jAYgRy/lgcGGeTRya",
      "include_colab_link": true
    },
    "kernelspec": {
      "name": "python3",
      "display_name": "Python 3"
    },
    "language_info": {
      "name": "python"
    }
  },
  "cells": [
    {
      "cell_type": "markdown",
      "metadata": {
        "id": "view-in-github",
        "colab_type": "text"
      },
      "source": [
        "<a href=\"https://colab.research.google.com/github/pranaysawant17/Ineuron-Assignment/blob/main/ON_Assignment_4_Python_Programmming.ipynb\" target=\"_parent\"><img src=\"https://colab.research.google.com/assets/colab-badge.svg\" alt=\"Open In Colab\"/></a>"
      ]
    },
    {
      "cell_type": "markdown",
      "source": [
        "1.\tWrite a Python Program to Find the Factorial of a Number?"
      ],
      "metadata": {
        "id": "qHZspRVqLr35"
      }
    },
    {
      "cell_type": "code",
      "execution_count": 3,
      "metadata": {
        "colab": {
          "base_uri": "https://localhost:8080/"
        },
        "id": "UjCul2dDJLhW",
        "outputId": "641ad3b2-75f1-49b5-fc98-9aa041dc74f5"
      },
      "outputs": [
        {
          "output_type": "stream",
          "name": "stdout",
          "text": [
            "Enter Number: 12\n",
            "Factorial of  12 :  479001600\n"
          ]
        }
      ],
      "source": [
        "num = int (input(\"Enter Number: \"))\n",
        "\n",
        "mul = 1\n",
        "\n",
        "for i in range (1,num+1):\n",
        "  mul*= i\n",
        "print(\"Factorial of \", num,\": \",mul)\n"
      ]
    },
    {
      "cell_type": "markdown",
      "source": [
        "2.\tWrite a Python Program to Display the multiplication Table?"
      ],
      "metadata": {
        "id": "XYs2w4nhM-LN"
      }
    },
    {
      "cell_type": "code",
      "source": [
        "num = int (input(\"Enter Number: \"))\n",
        "print(\"Table of \", num)\n",
        "for i in range (1,11):\n",
        "  print(num,\"*\" ,i, \"=\",num*i)"
      ],
      "metadata": {
        "colab": {
          "base_uri": "https://localhost:8080/"
        },
        "id": "JkVGs2GsMmRK",
        "outputId": "ba13b24b-663f-4de8-8b23-9207079980bd"
      },
      "execution_count": 4,
      "outputs": [
        {
          "output_type": "stream",
          "name": "stdout",
          "text": [
            "Enter Number: 12\n",
            "Table of  12\n",
            "12 * 1 = 12\n",
            "12 * 2 = 24\n",
            "12 * 3 = 36\n",
            "12 * 4 = 48\n",
            "12 * 5 = 60\n",
            "12 * 6 = 72\n",
            "12 * 7 = 84\n",
            "12 * 8 = 96\n",
            "12 * 9 = 108\n",
            "12 * 10 = 120\n"
          ]
        }
      ]
    },
    {
      "cell_type": "markdown",
      "source": [
        "3.\tWrite a Python Program to Print the Fibonacci sequence?"
      ],
      "metadata": {
        "id": "MsgFsuMKPJHN"
      }
    },
    {
      "cell_type": "code",
      "source": [
        "num = int(input(\"Enter last point of range: \"))\n",
        "x= 0\n",
        "y= 1\n",
        "lst=[0,1]\n",
        "\n",
        "for i in range (1,num):\n",
        "   z= x+y\n",
        "   lst.append(z)\n",
        "   x,y=y,z\n",
        "print(\"Fibonacci series:\",lst)\n"
      ],
      "metadata": {
        "colab": {
          "base_uri": "https://localhost:8080/"
        },
        "id": "5ZUN65SrPGr9",
        "outputId": "b64f8285-63b3-4c4e-b25f-9bd0e60e1efb"
      },
      "execution_count": 6,
      "outputs": [
        {
          "output_type": "stream",
          "name": "stdout",
          "text": [
            "Enter last point of range: 10\n",
            "Fibonacci series: [0, 1, 1, 2, 3, 5, 8, 13, 21, 34, 55]\n"
          ]
        }
      ]
    },
    {
      "cell_type": "markdown",
      "source": [
        "4.\tWrite a Python Program to Check Armstrong Number?"
      ],
      "metadata": {
        "id": "A79RKwCYTRSe"
      }
    },
    {
      "cell_type": "code",
      "source": [
        "def armstrongNum(a):\n",
        "  sum=0\n",
        "  for i in str(a):\n",
        "    sum+=int(i)**3\n",
        "  if sum == a:\n",
        "    return True\n",
        "  if sum != a:\n",
        "    return False\n",
        "\n",
        "print(armstrongNum(17))\n",
        "\n",
        "print(armstrongNum(153))\n"
      ],
      "metadata": {
        "colab": {
          "base_uri": "https://localhost:8080/"
        },
        "id": "l3ivym1PTOb8",
        "outputId": "b7032160-6f7c-4e69-aa70-3476a900359a"
      },
      "execution_count": 7,
      "outputs": [
        {
          "output_type": "stream",
          "name": "stdout",
          "text": [
            "False\n",
            "True\n"
          ]
        }
      ]
    },
    {
      "cell_type": "markdown",
      "source": [
        "5.\tWrite a Python Program to Find Armstrong Number in an Interval?"
      ],
      "metadata": {
        "id": "F-GPXERSVCyz"
      }
    },
    {
      "cell_type": "code",
      "source": [
        "def armstNumrang(a,b):\n",
        "  for i in range(a,b):\n",
        "    if armstrongNum(i)== True:\n",
        "      print(i)\n",
        "a= int (input(\"Enter starting number of range: \"))\n",
        "b= int (input(\"Enter Ending number of range: \"))\n",
        "armstNumrang(a,b)"
      ],
      "metadata": {
        "colab": {
          "base_uri": "https://localhost:8080/"
        },
        "id": "7OQl7VD7U8h1",
        "outputId": "ecc9ffc6-bb3a-4b81-9165-6e80ca0d5641"
      },
      "execution_count": 8,
      "outputs": [
        {
          "output_type": "stream",
          "name": "stdout",
          "text": [
            "Enter starting number of range: 1\n",
            "Enter Ending number of range: 200\n",
            "1\n",
            "153\n"
          ]
        }
      ]
    },
    {
      "cell_type": "markdown",
      "source": [
        "6.\tWrite a Python Program to Find the Sum of Natural Numbers?"
      ],
      "metadata": {
        "id": "AoeYiAO4WKkk"
      }
    },
    {
      "cell_type": "code",
      "source": [
        "a = int (input(\"Enter Ending number of range: \"))\n",
        "sum=0\n",
        "for i in range (a+1):\n",
        "  sum+=i\n",
        "print(\"Sum of first\",a,\"natural number: \",sum)"
      ],
      "metadata": {
        "colab": {
          "base_uri": "https://localhost:8080/"
        },
        "id": "bb95tk3PWEz-",
        "outputId": "aeae0db0-baf8-4c0c-d0fd-09cbb8f60ca4"
      },
      "execution_count": 9,
      "outputs": [
        {
          "output_type": "stream",
          "name": "stdout",
          "text": [
            "Enter Ending number of range: 10\n",
            "Sum of first 10 natural number:  55\n"
          ]
        }
      ]
    },
    {
      "cell_type": "code",
      "source": [
        ""
      ],
      "metadata": {
        "id": "pNAp7exSWke1"
      },
      "execution_count": null,
      "outputs": []
    }
  ]
}