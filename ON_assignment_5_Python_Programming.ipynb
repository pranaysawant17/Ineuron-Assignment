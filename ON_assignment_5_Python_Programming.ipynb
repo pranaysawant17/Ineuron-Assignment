{
  "nbformat": 4,
  "nbformat_minor": 0,
  "metadata": {
    "colab": {
      "name": "ON assignment 5: Python Programming.ipynb",
      "provenance": [],
      "collapsed_sections": [],
      "authorship_tag": "ABX9TyO/0GXk5yP3a+PJnuHmdEqb",
      "include_colab_link": true
    },
    "kernelspec": {
      "name": "python3",
      "display_name": "Python 3"
    },
    "language_info": {
      "name": "python"
    }
  },
  "cells": [
    {
      "cell_type": "markdown",
      "metadata": {
        "id": "view-in-github",
        "colab_type": "text"
      },
      "source": [
        "<a href=\"https://colab.research.google.com/github/pranaysawant17/Ineuron-Assignment/blob/main/ON_assignment_5_Python_Programming.ipynb\" target=\"_parent\"><img src=\"https://colab.research.google.com/assets/colab-badge.svg\" alt=\"Open In Colab\"/></a>"
      ]
    },
    {
      "cell_type": "markdown",
      "source": [
        "1.\tWrite a Python Program to Find LCM?"
      ],
      "metadata": {
        "id": "BY-PScaBKU6o"
      }
    },
    {
      "cell_type": "code",
      "execution_count": 11,
      "metadata": {
        "colab": {
          "base_uri": "https://localhost:8080/"
        },
        "id": "YwbjNFgu-ob1",
        "outputId": "e041fb2e-ace6-4c6a-fcbe-37b3be6da7cf"
      },
      "outputs": [
        {
          "output_type": "stream",
          "name": "stdout",
          "text": [
            "Enter First Number:12\n",
            "Enter Second Number:60\n",
            "LCM of Given number is 60\n"
          ]
        }
      ],
      "source": [
        "a= int(input(\"Enter First Number:\"))\n",
        "b= int(input(\"Enter Second Number:\"))\n",
        "lst=[]\n",
        "for i in range(1,a):\n",
        "  for j in range (1,b):\n",
        "    if a * j == b * i:\n",
        "      lst.append(a*j)\n",
        "print(\"LCM of Given number is\",min(lst))\n",
        "\n",
        "\n"
      ]
    },
    {
      "cell_type": "markdown",
      "source": [
        "2.\tWrite a Python Program to Find HCF?"
      ],
      "metadata": {
        "id": "6IUBxvvXMUBq"
      }
    },
    {
      "cell_type": "code",
      "source": [
        "a= int(input(\"Enter First Number:\"))\n",
        "b= int(input(\"Enter Second Number:\"))\n",
        "\n",
        "lst=[]\n",
        "for i in range(1,min(a,b)+1):\n",
        "  if (a % i == 0) and  (b % i ==0):\n",
        "        \n",
        "      lst.append(i) \n",
        "print(\"HCF of given number is\",max(lst))"
      ],
      "metadata": {
        "colab": {
          "base_uri": "https://localhost:8080/"
        },
        "id": "aH_jV1WXMZ2f",
        "outputId": "ad06c5e8-3cd4-4f1e-81f6-e914f2c8c9f9"
      },
      "execution_count": 21,
      "outputs": [
        {
          "output_type": "stream",
          "name": "stdout",
          "text": [
            "Enter First Number:12\n",
            "Enter Second Number:30\n",
            "HCF of given number is 6\n"
          ]
        }
      ]
    },
    {
      "cell_type": "markdown",
      "source": [
        "3.\tWrite a Python Program to Convert Decimal to Binary, Octal and Hexadecimal?"
      ],
      "metadata": {
        "id": "5NQZDb5COJhe"
      }
    },
    {
      "cell_type": "code",
      "source": [
        "def binary(a):\n",
        "  s=\"\"\n",
        "  while a>0:\n",
        "    s+= str(a%2)\n",
        "    a= a//2\n",
        "  return s[::-1]\n",
        "\n",
        "def octal(a):\n",
        "  s=\"\"\n",
        "  while a>0:\n",
        "    s+= str(a%8)\n",
        "    a= a//8\n",
        "  return s[::-1]\n",
        "\n",
        "def hexa(a):\n",
        "  dct= {10:'A',11:'B',12:'C',13:'D',14:'E', 15:'F'}\n",
        "  s=\"\"\n",
        "  while a>15:\n",
        "    if a%16>9:\n",
        "      s+= dct[a%16]\n",
        "      a= a//16\n",
        "     \n",
        "    else:\n",
        "      s+= str(a%16)\n",
        "      a= a//16\n",
        "  else:\n",
        "    s+= str(a)       \n",
        "    return s[::-1]\n",
        "\n",
        "print(binary(2000))\n",
        "print(octal(2000))\n",
        "print(hexa(2000))\n"
      ],
      "metadata": {
        "colab": {
          "base_uri": "https://localhost:8080/"
        },
        "id": "LMSM7ckQNRln",
        "outputId": "48e037c0-044f-40c9-e809-ada4651cd860"
      },
      "execution_count": 45,
      "outputs": [
        {
          "output_type": "stream",
          "name": "stdout",
          "text": [
            "11111010000\n",
            "3720\n",
            "7D0\n"
          ]
        }
      ]
    },
    {
      "cell_type": "markdown",
      "source": [
        "4.\tWrite a Python Program To Find ASCII value of a character?"
      ],
      "metadata": {
        "id": "cO6mMrmIYlus"
      }
    },
    {
      "cell_type": "code",
      "source": [
        "a=input(\"Enter character: \")\n",
        "\n",
        "print(ord(a))"
      ],
      "metadata": {
        "colab": {
          "base_uri": "https://localhost:8080/"
        },
        "id": "3C6k4_yeY1Y_",
        "outputId": "2277ef45-b5fc-4d10-c7c1-063a4d51383f"
      },
      "execution_count": 48,
      "outputs": [
        {
          "output_type": "stream",
          "name": "stdout",
          "text": [
            "Enter character: a\n",
            "97\n"
          ]
        }
      ]
    },
    {
      "cell_type": "markdown",
      "source": [
        "5.\tWrite a Python Program to Make a Simple Calculator with 4 basic mathematical operations?"
      ],
      "metadata": {
        "id": "CVzceV9tZzEs"
      }
    },
    {
      "cell_type": "code",
      "source": [
        "a= float(input(\"Enter First Number:\"))\n",
        "b= float(input(\"Enter Second Number:\"))\n",
        "\n",
        "op = input(\"Select operation: (+ for add), (- for minus), (* for multiplication) and (/ for division)= \")\n",
        "\n",
        "if op == '+':\n",
        "  print (a+b)\n",
        "elif op == '-':\n",
        "  print (a-b)\n",
        "elif op == '*':\n",
        "  print (a*b)\n",
        "elif op == '/':\n",
        "  print (a/b)\n",
        "else:\n",
        "  print ( \"wrong operation input\")\n"
      ],
      "metadata": {
        "colab": {
          "base_uri": "https://localhost:8080/"
        },
        "id": "dzc9AG9pZyVU",
        "outputId": "6694eac5-a7f6-4cd5-c7c1-2aac60aec81c"
      },
      "execution_count": 51,
      "outputs": [
        {
          "output_type": "stream",
          "name": "stdout",
          "text": [
            "Enter First Number:12\n",
            "Enter Second Number:20\n",
            "Select operation: (+ for add), (- for minus), (* for multiplication) and (/ for division)= +\n",
            "32.0\n"
          ]
        }
      ]
    }
  ]
}