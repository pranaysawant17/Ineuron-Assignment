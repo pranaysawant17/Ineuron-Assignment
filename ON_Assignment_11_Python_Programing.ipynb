{
  "nbformat": 4,
  "nbformat_minor": 0,
  "metadata": {
    "colab": {
      "name": "ON Assignment 11: Python Programing.ipynb",
      "provenance": [],
      "collapsed_sections": [],
      "authorship_tag": "ABX9TyMi5CX6fR7Ye/k1Tfmk1Oxi",
      "include_colab_link": true
    },
    "kernelspec": {
      "name": "python3",
      "display_name": "Python 3"
    },
    "language_info": {
      "name": "python"
    }
  },
  "cells": [
    {
      "cell_type": "markdown",
      "metadata": {
        "id": "view-in-github",
        "colab_type": "text"
      },
      "source": [
        "<a href=\"https://colab.research.google.com/github/pranaysawant17/Ineuron-Assignment/blob/main/ON_Assignment_11_Python_Programing.ipynb\" target=\"_parent\"><img src=\"https://colab.research.google.com/assets/colab-badge.svg\" alt=\"Open In Colab\"/></a>"
      ]
    },
    {
      "cell_type": "markdown",
      "source": [
        "1.\tWrite a Python program to find words which are greater than given length k?"
      ],
      "metadata": {
        "id": "ac-2muFDRS_F"
      }
    },
    {
      "cell_type": "code",
      "execution_count": 1,
      "metadata": {
        "colab": {
          "base_uri": "https://localhost:8080/"
        },
        "id": "VJkyyExqRCmf",
        "outputId": "5a92271f-e580-46c2-f3b0-074b90745993"
      },
      "outputs": [
        {
          "output_type": "stream",
          "name": "stdout",
          "text": [
            "Enter String:this is a good day\n",
            "Enter length2\n",
            "this\n",
            "good\n",
            "day\n"
          ]
        }
      ],
      "source": [
        "a = input(\"Enter String:\")\n",
        "b = int(input(\"Enter length\"))\n",
        "\n",
        "for i in a.split():\n",
        "  if len(i) > b:\n",
        "    print(i)"
      ]
    },
    {
      "cell_type": "markdown",
      "source": [
        "2.\tWrite a Python program for removing i-th character from a string?"
      ],
      "metadata": {
        "id": "oJRe9W3LTP-s"
      }
    },
    {
      "cell_type": "code",
      "source": [
        "a = input(\"Enter String:\")\n",
        "b = int(input(\"Enter number of character\"))\n",
        "\n",
        "a = a[:b-1] +a[b:]\n",
        "\n",
        "print(a)\n"
      ],
      "metadata": {
        "colab": {
          "base_uri": "https://localhost:8080/"
        },
        "id": "LviHPcUSS-4q",
        "outputId": "6380d155-23b9-4bca-c7ae-63e5fa8bcf98"
      },
      "execution_count": 7,
      "outputs": [
        {
          "output_type": "stream",
          "name": "stdout",
          "text": [
            "Enter String:beautiful\n",
            "Enter number of character5\n",
            "beauiful\n"
          ]
        }
      ]
    },
    {
      "cell_type": "markdown",
      "source": [
        "3.\tWrite a Python program to split and join a string?"
      ],
      "metadata": {
        "id": "MwLCDWsWUvqm"
      }
    },
    {
      "cell_type": "code",
      "source": [
        "a = input(\"Enter String: \")\n",
        "\n",
        "splt_a= a.split()\n",
        "\n",
        "join_a = ''.join(splt_a)\n",
        "\n",
        "print(a)\n",
        "print(splt_a)\n",
        "print(join_a)"
      ],
      "metadata": {
        "colab": {
          "base_uri": "https://localhost:8080/"
        },
        "id": "-4q9Da2_T0dM",
        "outputId": "63a634e8-e756-473c-a23e-f7356bacdcdd"
      },
      "execution_count": 10,
      "outputs": [
        {
          "output_type": "stream",
          "name": "stdout",
          "text": [
            "Enter String:This is great\n",
            "This is great\n",
            "['This', 'is', 'great']\n",
            "Thisisgreat\n"
          ]
        }
      ]
    },
    {
      "cell_type": "markdown",
      "source": [
        "4.\tWrite a Python to check if a given string is binary string or not?"
      ],
      "metadata": {
        "id": "QcMwCZGRV2qC"
      }
    },
    {
      "cell_type": "code",
      "source": [
        "def binary_str(a):\n",
        "   if all(i=='0' or i=='1' for i in a ) == True:\n",
        "     return \"String is Binary\"\n",
        "   else:\n",
        "     return \"String is not Binary\"\n",
        "\n",
        "\n"
      ],
      "metadata": {
        "id": "UEXcHWsdT9Ft"
      },
      "execution_count": 18,
      "outputs": []
    },
    {
      "cell_type": "code",
      "source": [
        "print(binary_str('11A0'))\n",
        "print(binary_str('1110'))"
      ],
      "metadata": {
        "colab": {
          "base_uri": "https://localhost:8080/"
        },
        "id": "c8EgYrbQXSFe",
        "outputId": "75cd372b-7b66-449c-dc30-71dc793c9009"
      },
      "execution_count": 19,
      "outputs": [
        {
          "output_type": "stream",
          "name": "stdout",
          "text": [
            "String is not Binary\n",
            "String is Binary\n"
          ]
        }
      ]
    },
    {
      "cell_type": "markdown",
      "source": [
        "5.\tWrite a Python program to find uncommon words from two Strings?"
      ],
      "metadata": {
        "id": "snxg2lYnZQFh"
      }
    },
    {
      "cell_type": "code",
      "source": [
        "a = input(\"Enter String:\")\n",
        "b = input(\"Enter String:\")\n",
        "\n",
        "lst =[]\n",
        "for i in a.split():\n",
        "   if i not in b.split():\n",
        "      lst.append(i)\n",
        "for j in b.split():\n",
        "   if j not in a.split():\n",
        "      lst.append(j)\n",
        "\n",
        "print(\"List of uncommon words: \", lst)\n"
      ],
      "metadata": {
        "colab": {
          "base_uri": "https://localhost:8080/"
        },
        "id": "UOhpFddmYJd5",
        "outputId": "10315a5f-ec8a-484c-fc8c-db54362e3735"
      },
      "execution_count": 25,
      "outputs": [
        {
          "output_type": "stream",
          "name": "stdout",
          "text": [
            "Enter String:this is good\n",
            "Enter String:this is bad\n",
            "List of uncommon words:  ['good', 'bad']\n"
          ]
        }
      ]
    },
    {
      "cell_type": "markdown",
      "source": [
        "6.\tWrite a Python to find all duplicate characters in string?"
      ],
      "metadata": {
        "id": "HIo8_wfBdi-P"
      }
    },
    {
      "cell_type": "code",
      "source": [
        "a = input(\"Enter String:\")\n",
        "\n",
        "lst = []\n",
        "for i in a:\n",
        "  if a.count(i)>= 2:\n",
        "    lst.append(i)\n",
        "print(list(set(lst)))\n",
        "\n"
      ],
      "metadata": {
        "colab": {
          "base_uri": "https://localhost:8080/"
        },
        "id": "v8medzURbe5_",
        "outputId": "532a6e92-6312-4b16-b5b7-927f5a3cc855"
      },
      "execution_count": 29,
      "outputs": [
        {
          "output_type": "stream",
          "name": "stdout",
          "text": [
            "Enter String:applepie\n",
            "['p', 'e']\n"
          ]
        }
      ]
    },
    {
      "cell_type": "markdown",
      "source": [
        "7.\tWrite a Python Program to check if a string contains any special character?"
      ],
      "metadata": {
        "id": "wJhVCVKDf8SG"
      }
    },
    {
      "cell_type": "code",
      "source": [
        "def sp_char(a):\n",
        "  if a.isalnum() == True or a.isnumeric()==True or a.isalpha()== True:\n",
        "    print(\"String does not contain special character\")\n",
        "  else:\n",
        "    print(\"String  contains special character\")\n",
        "  "
      ],
      "metadata": {
        "id": "_ofxnxlMdqem"
      },
      "execution_count": 32,
      "outputs": []
    },
    {
      "cell_type": "code",
      "source": [
        "sp_char('123')\n",
        "sp_char('A12')\n",
        "sp_char('abc')\n",
        "sp_char('#$a')"
      ],
      "metadata": {
        "colab": {
          "base_uri": "https://localhost:8080/"
        },
        "id": "lASIlEI7hAjH",
        "outputId": "deb8fb57-8ad1-4a88-dd29-dfce9ce53618"
      },
      "execution_count": 34,
      "outputs": [
        {
          "output_type": "stream",
          "name": "stdout",
          "text": [
            "String does not contain special character\n",
            "String does not contain special character\n",
            "String does not contain special character\n",
            "String  contains special character\n"
          ]
        }
      ]
    },
    {
      "cell_type": "code",
      "source": [
        ""
      ],
      "metadata": {
        "id": "QPnORYBmjEjz"
      },
      "execution_count": null,
      "outputs": []
    }
  ]
}