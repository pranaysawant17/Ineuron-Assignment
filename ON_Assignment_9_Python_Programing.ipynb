{
  "nbformat": 4,
  "nbformat_minor": 0,
  "metadata": {
    "colab": {
      "name": "ON Assignment 9: Python Programing.ipynb",
      "provenance": [],
      "collapsed_sections": [],
      "authorship_tag": "ABX9TyNai3hTAoBDG5IZDqLvff+2",
      "include_colab_link": true
    },
    "kernelspec": {
      "name": "python3",
      "display_name": "Python 3"
    },
    "language_info": {
      "name": "python"
    }
  },
  "cells": [
    {
      "cell_type": "markdown",
      "metadata": {
        "id": "view-in-github",
        "colab_type": "text"
      },
      "source": [
        "<a href=\"https://colab.research.google.com/github/pranaysawant17/Ineuron-Assignment/blob/main/ON_Assignment_9_Python_Programing.ipynb\" target=\"_parent\"><img src=\"https://colab.research.google.com/assets/colab-badge.svg\" alt=\"Open In Colab\"/></a>"
      ]
    },
    {
      "cell_type": "markdown",
      "source": [
        "1.\tWrite a Python program to check if the given number is a Disarium Number?"
      ],
      "metadata": {
        "id": "FkPT-wiSLuLc"
      }
    },
    {
      "cell_type": "code",
      "execution_count": 50,
      "metadata": {
        "id": "HU__8xF-LnIu"
      },
      "outputs": [],
      "source": [
        "def sum_num(a):\n",
        "  strng = str(a)\n",
        "  sum = 0\n",
        "  for i in strng:\n",
        "    sum+= int(i)**(strng.index(i)+1)\n",
        "  return sum\n",
        "def disarium_num(a):\n",
        "  if sum_num(a) == a:\n",
        "    return True\n",
        "  else:\n",
        "    return False\n"
      ]
    },
    {
      "cell_type": "code",
      "source": [
        "print(disarium_num(175))\n",
        "print(disarium_num(105))"
      ],
      "metadata": {
        "colab": {
          "base_uri": "https://localhost:8080/"
        },
        "id": "lPgyWkZYMFFA",
        "outputId": "9857980d-4996-4b9e-f3dc-e9318cf0c69d"
      },
      "execution_count": 51,
      "outputs": [
        {
          "output_type": "stream",
          "name": "stdout",
          "text": [
            "True\n",
            "False\n"
          ]
        }
      ]
    },
    {
      "cell_type": "markdown",
      "source": [
        "2.\tWrite a Python program to print all disarium numbers between 1 to 100?"
      ],
      "metadata": {
        "id": "fhNjWK9tcG8S"
      }
    },
    {
      "cell_type": "code",
      "source": [
        "a = int(input (\"Enter last number of range: \"))\n",
        "\n",
        "for i in range(1, a+1):\n",
        "  if disarium_num(i) == True:\n",
        "      print(i)\n",
        "  else:\n",
        "    continue\n"
      ],
      "metadata": {
        "colab": {
          "base_uri": "https://localhost:8080/"
        },
        "id": "b1FnJ1xPOLnx",
        "outputId": "fe3d6abb-d584-4502-b69f-1ed3111e1830"
      },
      "execution_count": 52,
      "outputs": [
        {
          "output_type": "stream",
          "name": "stdout",
          "text": [
            "Enter last number of range: 100\n",
            "1\n",
            "2\n",
            "3\n",
            "4\n",
            "5\n",
            "6\n",
            "7\n",
            "8\n",
            "9\n",
            "89\n"
          ]
        }
      ]
    },
    {
      "cell_type": "markdown",
      "source": [
        "3.\tWrite a Python program to check if the given number is Happy Number?"
      ],
      "metadata": {
        "id": "gUIlfELxcJE7"
      }
    },
    {
      "cell_type": "code",
      "source": [
        "def num_sum(a):\n",
        "  sum = 0\n",
        "  for i in str(a):\n",
        "    sum += int(i)**2\n",
        "  return sum\n",
        "\n",
        "def happy_num(a):\n",
        "  while num_sum(a) > 9:\n",
        "    a= num_sum(a)\n",
        "  else:\n",
        "    if num_sum(a) == 1:\n",
        "      return True\n",
        "    else:\n",
        "      return False  \n"
      ],
      "metadata": {
        "id": "W5LePjA_MJg1"
      },
      "execution_count": 53,
      "outputs": []
    },
    {
      "cell_type": "code",
      "source": [
        "print(happy_num(10))\n",
        "print(happy_num(11))"
      ],
      "metadata": {
        "colab": {
          "base_uri": "https://localhost:8080/"
        },
        "id": "em6XwCRsMbkb",
        "outputId": "9c83011f-b106-4732-9869-4491767f7cdb"
      },
      "execution_count": 54,
      "outputs": [
        {
          "output_type": "stream",
          "name": "stdout",
          "text": [
            "True\n",
            "False\n"
          ]
        }
      ]
    },
    {
      "cell_type": "markdown",
      "source": [
        "4.\tWrite a Python program to print all happy numbers between 1 and 100?"
      ],
      "metadata": {
        "id": "P_zcRukMcMYq"
      }
    },
    {
      "cell_type": "code",
      "source": [
        "a = int(input (\"Enter last number of range: \"))\n",
        "\n",
        "for i in range(1, a+1):\n",
        "  if happy_num(i) == True:\n",
        "      print(i)\n",
        "  else:\n",
        "    continue"
      ],
      "metadata": {
        "colab": {
          "base_uri": "https://localhost:8080/"
        },
        "id": "T9oG98lJSfzV",
        "outputId": "ef076aaa-8a3f-4aa7-a409-2980a507cd7d"
      },
      "execution_count": 55,
      "outputs": [
        {
          "output_type": "stream",
          "name": "stdout",
          "text": [
            "Enter last number of range: 100\n",
            "1\n",
            "7\n",
            "10\n",
            "13\n",
            "19\n",
            "23\n",
            "28\n",
            "31\n",
            "32\n",
            "44\n",
            "49\n",
            "68\n",
            "70\n",
            "79\n",
            "82\n",
            "86\n",
            "91\n",
            "94\n",
            "97\n",
            "100\n"
          ]
        }
      ]
    },
    {
      "cell_type": "markdown",
      "source": [
        "5.\tWrite a Python program to determine whether the given number is a Harshad Number?"
      ],
      "metadata": {
        "id": "i_VO7eiwcP-E"
      }
    },
    {
      "cell_type": "code",
      "source": [
        "def sum_digit(a):\n",
        "  sum = 0\n",
        "  for i in str(a):\n",
        "    sum+= int(i)\n",
        "  return sum\n",
        "\n",
        "def harshad_num(a):\n",
        "  if a % sum_digit(a) == 0:\n",
        "    return True\n",
        "  else:\n",
        "    return False"
      ],
      "metadata": {
        "id": "XNyy96ZxUytj"
      },
      "execution_count": 56,
      "outputs": []
    },
    {
      "cell_type": "code",
      "source": [
        "harshad_num(156)"
      ],
      "metadata": {
        "colab": {
          "base_uri": "https://localhost:8080/"
        },
        "id": "40vM_7E5Yz_O",
        "outputId": "e09ac3b7-f64e-4148-9481-72b7b308f917"
      },
      "execution_count": 57,
      "outputs": [
        {
          "output_type": "execute_result",
          "data": {
            "text/plain": [
              "True"
            ]
          },
          "metadata": {},
          "execution_count": 57
        }
      ]
    },
    {
      "cell_type": "markdown",
      "source": [
        "6.\tWrite a Python program to print all pronic numbers between 1 and 100?"
      ],
      "metadata": {
        "id": "KGAunsl1cTna"
      }
    },
    {
      "cell_type": "code",
      "source": [
        "a = int(input (\"Enter last number of range: \"))\n",
        "\n",
        "for i in range(1, a+1):\n",
        "  if harshad_num(i) == True:\n",
        "      print(i)\n",
        "  else:\n",
        "    continue"
      ],
      "metadata": {
        "colab": {
          "base_uri": "https://localhost:8080/"
        },
        "id": "ndPB_T2bY6Nb",
        "outputId": "f670b4e5-d9b5-461b-d8be-cbd379664864"
      },
      "execution_count": 58,
      "outputs": [
        {
          "output_type": "stream",
          "name": "stdout",
          "text": [
            "Enter last number of range: 100\n",
            "1\n",
            "2\n",
            "3\n",
            "4\n",
            "5\n",
            "6\n",
            "7\n",
            "8\n",
            "9\n",
            "10\n",
            "12\n",
            "18\n",
            "20\n",
            "21\n",
            "24\n",
            "27\n",
            "30\n",
            "36\n",
            "40\n",
            "42\n",
            "45\n",
            "48\n",
            "50\n",
            "54\n",
            "60\n",
            "63\n",
            "70\n",
            "72\n",
            "80\n",
            "81\n",
            "84\n",
            "90\n",
            "100\n"
          ]
        }
      ]
    },
    {
      "cell_type": "code",
      "source": [
        ""
      ],
      "metadata": {
        "id": "kWS2p6snajB6"
      },
      "execution_count": 58,
      "outputs": []
    }
  ]
}