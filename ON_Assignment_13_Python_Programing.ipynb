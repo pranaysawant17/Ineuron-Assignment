{
  "nbformat": 4,
  "nbformat_minor": 0,
  "metadata": {
    "colab": {
      "name": "ON Assignment 13: Python Programing.ipynb",
      "provenance": [],
      "authorship_tag": "ABX9TyP8Uu0EzQ2aoQtQOWEs1+6u"
    },
    "kernelspec": {
      "name": "python3",
      "display_name": "Python 3"
    },
    "language_info": {
      "name": "python"
    }
  },
  "cells": [
    {
      "cell_type": "markdown",
      "source": [
        "Question 1:\n",
        "\n",
        "Write a program that calculates and prints the value according to the given formula:\n",
        "Q = Square root of [(2 * C * D)/H]\n",
        "Following are the fixed values of C and H:\n",
        "C is 50. H is 30.\n",
        "D is the variable whose values should be input to your program in a comma-separated sequence.\n",
        "Example\n",
        "Let us assume the following comma separated input sequence is given to the program:\n",
        "100,150,180\n",
        "The output of the program should be:\n",
        "18,22,24\n"
      ],
      "metadata": {
        "id": "i5_sl7xGdCxI"
      }
    },
    {
      "cell_type": "code",
      "execution_count": 18,
      "metadata": {
        "colab": {
          "base_uri": "https://localhost:8080/"
        },
        "id": "TNE4-IZgc-4Z",
        "outputId": "3226f613-dda4-4273-fa0a-02446f02c6e1"
      },
      "outputs": [
        {
          "output_type": "stream",
          "name": "stdout",
          "text": [
            "100,150,180\n",
            "18,22,24\n"
          ]
        }
      ],
      "source": [
        "inp_list=[x for x in input().split(',')]\n",
        "\n",
        "ans=[]\n",
        "C=50\n",
        "H=30\n",
        "for i in inp_list:\n",
        "  Q = ((2*C*int(i))/H)**0.5\n",
        "  ans.append(str(int(Q)))\n",
        "\n",
        "print(','.join(ans))\n",
        "\n",
        "    \n",
        "\n"
      ]
    },
    {
      "cell_type": "markdown",
      "source": [
        "Question 2:\n",
        "Write a program which takes 2 digits, X,Y as input and generates a 2-dimensional array. The element value in the i-th row and j-th column of the array should be i*j.\n",
        "Note: i=0,1.., X-1; j=0,1,¡¬Y-1.\n",
        "Example\n",
        "Suppose the following inputs are given to the program:\n",
        "3,5\n",
        "Then, the output of the program should be:\n",
        "[[0, 0, 0, 0, 0], [0, 1, 2, 3, 4], [0, 2, 4, 6, 8]] \n"
      ],
      "metadata": {
        "id": "7yrONIF1hJ2v"
      }
    },
    {
      "cell_type": "code",
      "source": [
        "x= int(input(\"Enter number of rows: \"))\n",
        "y= int(input(\"Enter number of colomns: \"))\n",
        "\n",
        "biglist=[]\n",
        "for i in range(x):\n",
        "  list=[]\n",
        "  for j in range(y):\n",
        "    list.append(i*j)\n",
        "  biglist.append(list)\n",
        "print(biglist)"
      ],
      "metadata": {
        "colab": {
          "base_uri": "https://localhost:8080/"
        },
        "id": "CdF8BjuPer8N",
        "outputId": "f741afe6-c1b9-4524-b8fe-ecdc82ee4ad6"
      },
      "execution_count": 22,
      "outputs": [
        {
          "output_type": "stream",
          "name": "stdout",
          "text": [
            "Enter number of rows: 3\n",
            "Enter number of colomns: 5\n",
            "[[0, 0, 0, 0, 0], [0, 1, 2, 3, 4], [0, 2, 4, 6, 8]]\n"
          ]
        }
      ]
    },
    {
      "cell_type": "markdown",
      "source": [
        "Write a program that accepts a comma separated sequence of words as input and prints the words in a comma-separated sequence after sorting them alphabetically.\n",
        "Suppose the following input is supplied to the program:\n",
        "without,hello,bag,world\n",
        "Then, the output should be:\n",
        "bag,hello,without,world"
      ],
      "metadata": {
        "id": "k-CS9vgfkl_m"
      }
    },
    {
      "cell_type": "code",
      "source": [
        "inp_list=[x for x in input().split(',')]\n",
        "\n",
        "print(','.join(sorted(inp_list)))"
      ],
      "metadata": {
        "colab": {
          "base_uri": "https://localhost:8080/"
        },
        "id": "eRFK5HXCkIl0",
        "outputId": "d0fb073e-478c-4fe2-f8d9-48b338e34967"
      },
      "execution_count": 26,
      "outputs": [
        {
          "output_type": "stream",
          "name": "stdout",
          "text": [
            "without,hello,bag,world\n",
            "bag,hello,without,world\n"
          ]
        }
      ]
    },
    {
      "cell_type": "markdown",
      "source": [
        "Question 4:\n",
        "Write a program that accepts a sequence of whitespace separated words as input and prints the words after removing all duplicate words and sorting them alphanumerically.\n",
        "\n",
        "Suppose the following input is supplied to the program:\n",
        "hello world and practice makes perfect and hello world again\n",
        "\n",
        "Then, the output should be:\n",
        "again and hello makes perfect practice world\n"
      ],
      "metadata": {
        "id": "7WpiMeBWli6A"
      }
    },
    {
      "cell_type": "code",
      "source": [
        "inp_list=[x for x in input().split(' ')]\n",
        "\n",
        "print(' '.join(sorted(set(inp_list))))"
      ],
      "metadata": {
        "colab": {
          "base_uri": "https://localhost:8080/"
        },
        "id": "uBIj9NxIlIsM",
        "outputId": "34483005-308d-436a-ce15-4db2601c92da"
      },
      "execution_count": 30,
      "outputs": [
        {
          "output_type": "stream",
          "name": "stdout",
          "text": [
            "hello world and practice makes perfect and hello world again\n",
            "again and hello makes perfect practice world\n"
          ]
        }
      ]
    },
    {
      "cell_type": "markdown",
      "source": [
        "Question 5:\n",
        "Write a program that accepts a sentence and calculate the number of letters and digits.\n",
        "\n",
        "Suppose the following input is supplied to the program:\n",
        "hello world! 123\n",
        "\n",
        "Then, the output should be:\n",
        "LETTERS 10\n",
        "DIGITS 3\n"
      ],
      "metadata": {
        "id": "Z67fYSf5mQD7"
      }
    },
    {
      "cell_type": "code",
      "source": [
        "inp = input(\"Enter String \")\n",
        "\n",
        "l = 0\n",
        "d = 0\n",
        "\n",
        "for i in inp:\n",
        "  if i.isalpha()==True:\n",
        "    l+=1\n",
        "  elif i.isdigit() == True:\n",
        "    d+=1\n",
        "  else:\n",
        "    continue\n",
        "print(\"LETTERS \",l)\n",
        "print(\"DIGITS \", d)\n"
      ],
      "metadata": {
        "colab": {
          "base_uri": "https://localhost:8080/"
        },
        "id": "oe5aj-0PmP6h",
        "outputId": "6a9d6b4e-b8e5-4c43-e3d7-9c680b213654"
      },
      "execution_count": 32,
      "outputs": [
        {
          "output_type": "stream",
          "name": "stdout",
          "text": [
            "Enter String hello world! 123\n",
            "LETTERS  10\n",
            "DIGITS  3\n"
          ]
        }
      ]
    },
    {
      "cell_type": "markdown",
      "source": [
        "Question 6:\n",
        "A website requires the users to input username and password to register. Write a program to check the validity of password input by users.\n",
        "\n",
        "Following are the criteria for checking the password:\n",
        "1. At least 1 letter between [a-z]\n",
        "2. At least 1 number between [0-9]\n",
        "1. At least 1 letter between [A-Z]\n",
        "3. At least 1 character from [$#@]\n",
        "4. Minimum length of transaction password: 6\n",
        "5. Maximum length of transaction password: 12\n",
        "\n",
        "Your program should accept a sequence of comma separated passwords and will check them according to the above criteria. Passwords that match the criteria are to be printed, each separated by a comma.\n",
        "Example\n",
        "If the following passwords are given as input to the program:\n",
        "ABd1234@1,a F1#,2w3E*,2We3345\n",
        "Then, the output of the program should be:\n",
        "ABd1234@1\n"
      ],
      "metadata": {
        "id": "tQKkhx1VoZYD"
      }
    },
    {
      "cell_type": "code",
      "source": [
        "inp_list=[x for x in input().split(',')]\n",
        "\n",
        "for i in inp_list:\n",
        "  if len(i)<=12 and len(i)>=6: \n",
        "    u,l,d,c=0,0,0,0   \n",
        "    for j in i:\n",
        "      if j.isupper() == True:\n",
        "        u+=1\n",
        "      elif j.islower() == True:\n",
        "        l+=1\n",
        "      elif j.isdigit()== True:\n",
        "        d+=1\n",
        "        \n",
        "      elif j in ['$','#','@']:\n",
        "        c+=1\n",
        "      else:\n",
        "        continue\n",
        "     \n",
        "  if (u+c+l+d == len(i) and u>=1 and c>=1 and l>=1 and d>=1):\n",
        "       \n",
        "       print(i)"
      ],
      "metadata": {
        "colab": {
          "base_uri": "https://localhost:8080/"
        },
        "id": "34LkVLy0l7vX",
        "outputId": "360463fb-4e2a-45e7-9d8b-e4802e1fd9f2"
      },
      "execution_count": 49,
      "outputs": [
        {
          "output_type": "stream",
          "name": "stdout",
          "text": [
            "ABd1234@1,a F1#,2w3E*,2We3345\n",
            "ABd1234@1\n"
          ]
        }
      ]
    },
    {
      "cell_type": "code",
      "source": [
        " "
      ],
      "metadata": {
        "id": "GsEVqz-Rq0y7"
      },
      "execution_count": null,
      "outputs": []
    }
  ]
}