{
  "nbformat": 4,
  "nbformat_minor": 0,
  "metadata": {
    "colab": {
      "name": "ON Assignment 14: Python Programing.ipynb",
      "provenance": [],
      "collapsed_sections": [],
      "authorship_tag": "ABX9TyOot+2JxNAXMHPCycMCQI8S",
      "include_colab_link": true
    },
    "kernelspec": {
      "name": "python3",
      "display_name": "Python 3"
    },
    "language_info": {
      "name": "python"
    }
  },
  "cells": [
    {
      "cell_type": "markdown",
      "metadata": {
        "id": "view-in-github",
        "colab_type": "text"
      },
      "source": [
        "<a href=\"https://colab.research.google.com/github/pranaysawant17/Ineuron-Assignment/blob/main/ON_Assignment_14_Python_Programing.ipynb\" target=\"_parent\"><img src=\"https://colab.research.google.com/assets/colab-badge.svg\" alt=\"Open In Colab\"/></a>"
      ]
    },
    {
      "cell_type": "markdown",
      "source": [
        "Question 1:\n",
        "\n",
        "Define a class with a generator which can iterate the numbers, which are divisible by 7, between a given range 0 and n.\n"
      ],
      "metadata": {
        "id": "VQJq8aRHcxb9"
      }
    },
    {
      "cell_type": "code",
      "execution_count": 1,
      "metadata": {
        "id": "S4OpvEeFPv-4"
      },
      "outputs": [],
      "source": [
        "def divis_generator (n):\n",
        "  for i in range (0,n):\n",
        "    if i%7 == 0:\n",
        "      yield i"
      ]
    },
    {
      "cell_type": "code",
      "source": [
        "d = divis_generator (50)\n",
        "print(next(d))\n",
        "print(next(d))"
      ],
      "metadata": {
        "colab": {
          "base_uri": "https://localhost:8080/"
        },
        "id": "CCht3HrHTGZW",
        "outputId": "b9484a37-6a71-4810-f2de-0ceaa7781b18"
      },
      "execution_count": 3,
      "outputs": [
        {
          "output_type": "stream",
          "name": "stdout",
          "text": [
            "0\n",
            "7\n"
          ]
        }
      ]
    },
    {
      "cell_type": "markdown",
      "source": [
        "Question 2:\n",
        "Write a program to compute the frequency of the words from the input. The output should output after sorting the key alphanumerically. \n"
      ],
      "metadata": {
        "id": "gDO4gtBYc1OX"
      }
    },
    {
      "cell_type": "code",
      "source": [
        "d=dict()\n",
        "s=input(\"Enter the string:\")\n",
        "for i in s.split():\n",
        "  d[i]=d.get(i,0)+1\n",
        "\n",
        "for i,j in sorted(d.items()):\n",
        "  print (i, ':' , j)\n",
        "\n"
      ],
      "metadata": {
        "colab": {
          "base_uri": "https://localhost:8080/"
        },
        "id": "VRJ3Nc0wTSdW",
        "outputId": "5d8ddc5d-d400-4136-b320-d092c59e6d81"
      },
      "execution_count": 14,
      "outputs": [
        {
          "output_type": "stream",
          "name": "stdout",
          "text": [
            "Enter the string:New to Python or choosing between Python 2 and Python 3? Read Python 2 or Python 3\n",
            "2 : 2\n",
            "3 : 1\n",
            "3? : 1\n",
            "New : 1\n",
            "Python : 5\n",
            "Read : 1\n",
            "and : 1\n",
            "between : 1\n",
            "choosing : 1\n",
            "or : 2\n",
            "to : 1\n"
          ]
        }
      ]
    },
    {
      "cell_type": "markdown",
      "source": [
        "Question 3:\n",
        "\n",
        "\n",
        "\n",
        "Define a class Person and its two child classes: Male and Female. All classes have a method \"getGender\" which can print \"Male\" for Male class and \"Female\" for Female class\n",
        "\n"
      ],
      "metadata": {
        "id": "sVgSHfTNc5HS"
      }
    },
    {
      "cell_type": "code",
      "source": [
        "class Person():\n",
        "  def getGender(self):\n",
        "    pass\n",
        "class Male(Person):\n",
        "  def getGender(self):\n",
        "    return 'Male'\n",
        "class Female(Person):\n",
        "  def getGender(self):\n",
        "    return 'Female'\n",
        "\n"
      ],
      "metadata": {
        "id": "WfWF0LIjTtkr"
      },
      "execution_count": 16,
      "outputs": []
    },
    {
      "cell_type": "code",
      "source": [
        "m = Male()\n",
        "f = Female()\n",
        "\n",
        "print(m.getGender())\n",
        "print(f.getGender())"
      ],
      "metadata": {
        "colab": {
          "base_uri": "https://localhost:8080/"
        },
        "id": "5X-DP6p3XY-o",
        "outputId": "db2719e5-84f9-4867-b93e-73133e6262d9"
      },
      "execution_count": 17,
      "outputs": [
        {
          "output_type": "stream",
          "name": "stdout",
          "text": [
            "Male\n",
            "Female\n"
          ]
        }
      ]
    },
    {
      "cell_type": "markdown",
      "source": [
        "Question 4:\n",
        "Please write a program to generate all sentences where subject is in [\"I\", \"You\"] and verb is in [\"Play\", \"Love\"] and the object is in [\"Hockey\",\"Football\"].\n"
      ],
      "metadata": {
        "id": "qALzeTpbc9vJ"
      }
    },
    {
      "cell_type": "code",
      "source": [
        "a = [\"I\", \"You\"] \n",
        "b = [\"Play\", \"Love\"] \n",
        "c = [\"Hockey\",\"Football\"]\n",
        "\n",
        "for i in a:\n",
        "  for j in b:\n",
        "    for k in c:\n",
        "      print(i+' ' + j+' ' + k)\n"
      ],
      "metadata": {
        "colab": {
          "base_uri": "https://localhost:8080/"
        },
        "id": "GvDlj4UjYNNc",
        "outputId": "3772b52d-9176-4ba0-fb25-0c5e036556b4"
      },
      "execution_count": 19,
      "outputs": [
        {
          "output_type": "stream",
          "name": "stdout",
          "text": [
            "I Play Hockey\n",
            "I Play Football\n",
            "I Love Hockey\n",
            "I Love Football\n",
            "You Play Hockey\n",
            "You Play Football\n",
            "You Love Hockey\n",
            "You Love Football\n"
          ]
        }
      ]
    },
    {
      "cell_type": "markdown",
      "source": [
        "Question 5:\n",
        "Please write a program to compress and decompress the string \"hello world!hello world!hello world!hello world!\".\n"
      ],
      "metadata": {
        "id": "xY1p9RnbdBbO"
      }
    },
    {
      "cell_type": "code",
      "source": [
        "import gzip #Ref: https://www.geeksforgeeks.org/gzip-decompresss-in-python/\n",
        "s = b\"hello world!hello world!hello world!hello world!\"\n",
        "s = gzip.compress(s)\n",
        "print(s)\n",
        "  \n",
        "# using gzip.decompress(s) method\n",
        "t = gzip.decompress(s)\n",
        "print(t)"
      ],
      "metadata": {
        "colab": {
          "base_uri": "https://localhost:8080/"
        },
        "id": "wq4MzkgjYjOn",
        "outputId": "f3db716f-c2b6-4b28-e9c9-536524bf9e10"
      },
      "execution_count": 22,
      "outputs": [
        {
          "output_type": "stream",
          "name": "stdout",
          "text": [
            "b'\\x1f\\x8b\\x08\\x001)\\xeda\\x02\\xff\\xcbH\\xcd\\xc9\\xc9W(\\xcf/\\xcaIQ\\xcc \\x82\\r\\x00\\xd3\\xe6\\xcf\\xae0\\x00\\x00\\x00'\n",
            "b'hello world!hello world!hello world!hello world!'\n"
          ]
        }
      ]
    },
    {
      "cell_type": "code",
      "source": [
        "string = \"hello world!hello world!hello world!hello world!\"\n",
        "count=0\n",
        "new_string = \"\"\n",
        "count = 1\n",
        "for i in range(len(string)-1):\n",
        "    if string[i] == string[i+1]:\n",
        "        count = count + 1\n",
        "    else:         \n",
        "        new_string =  new_string + string[i] + str(count)\n",
        "        count = 1\n",
        "new_string = new_string + string[i+1] + str(count)\n",
        "print(\"Compressed string:\",new_string)\n",
        "\n",
        "d=''\n",
        "index =0\n",
        "for i in new_string:\n",
        "  if i.isdigit()==True:\n",
        "    d+= new_string[index-1]* int(i)\n",
        "    index+=1\n",
        "  else:\n",
        "      index += 1\n",
        "\n",
        "      continue\n",
        "print(\"Decompressed String:\",d)\n"
      ],
      "metadata": {
        "colab": {
          "base_uri": "https://localhost:8080/"
        },
        "id": "85uBKxktdKHb",
        "outputId": "7fd29b6b-34b7-4cdf-8243-30f775d11522"
      },
      "execution_count": 37,
      "outputs": [
        {
          "output_type": "stream",
          "name": "stdout",
          "text": [
            "Compressed string: h1e1l2o1 1w1o1r1l1d1!1h1e1l2o1 1w1o1r1l1d1!1h1e1l2o1 1w1o1r1l1d1!1h1e1l2o1 1w1o1r1l1d1!1\n",
            "Decompressed String: hello world!hello world!hello world!hello world!\n"
          ]
        }
      ]
    },
    {
      "cell_type": "markdown",
      "source": [
        "Question 6:\n",
        "Please write a binary search function which searches an item in a sorted list. The function should return the index of element to be searched in the list.\n"
      ],
      "metadata": {
        "id": "7EVR-Yj1dHZ6"
      }
    },
    {
      "cell_type": "code",
      "source": [
        "def binary_search (lst,a):\n",
        "  sort_lst = sorted(lst)\n",
        "  if a in sort_lst:\n",
        "    print(sort_lst.index(a))\n",
        "\n"
      ],
      "metadata": {
        "id": "M71T7l4YZo0k"
      },
      "execution_count": 25,
      "outputs": []
    },
    {
      "cell_type": "code",
      "source": [
        "a  = [1, 2, 4, 4, 8]\n",
        "binary_search(a,4)"
      ],
      "metadata": {
        "colab": {
          "base_uri": "https://localhost:8080/"
        },
        "id": "n2QuVJh2cbDs",
        "outputId": "b22a33fa-e706-44f8-b4c0-ccb0c097430b"
      },
      "execution_count": 26,
      "outputs": [
        {
          "output_type": "stream",
          "name": "stdout",
          "text": [
            "2\n"
          ]
        }
      ]
    },
    {
      "cell_type": "code",
      "source": [
        ""
      ],
      "metadata": {
        "id": "qTrT634ncmA8"
      },
      "execution_count": null,
      "outputs": []
    }
  ]
}